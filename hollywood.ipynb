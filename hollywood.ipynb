{
 "cells": [
  {
   "cell_type": "code",
   "execution_count": 1,
   "metadata": {},
   "outputs": [],
   "source": [
    "import pandas as pd\n",
    "import plotly.express as px\n",
    "import plotly.graph_objects as go"
   ]
  },
  {
   "cell_type": "code",
   "execution_count": 41,
   "metadata": {},
   "outputs": [],
   "source": [
    "annual_ticket_sales = pd.read_csv(\"csv files\\AnnualTicketSales.csv\")\n",
    "highest_grossers = pd.read_csv(\"csv files\\HighestGrossers.csv\")\n",
    "popular_creative_types = pd.read_csv(\"csv files\\PopularCreativeTypes.csv\")\n",
    "top_distributors = pd.read_csv(\"csv files\\TopDistributors.csv\")\n",
    "top_genres = pd.read_csv(\"csv files\\TopDistributors.csv\")\n",
    "top_grossing_ratings = pd.read_csv(\"csv files\\TopGrossingRatings.csv\")\n",
    "top_grossing_sources = pd.read_csv(\"csv files\\TopGrossingSources.csv\")\n",
    "top_production_methods = pd.read_csv(\"csv files\\TopProductionMethods.csv\")\n",
    "wide_release_count = pd.read_csv(\"csv files\\WideReleasesCount.csv\")"
   ]
  },
  {
   "cell_type": "markdown",
   "metadata": {},
   "source": [
    "### AnnualTicketSales.csv"
   ]
  },
  {
   "cell_type": "code",
   "execution_count": 58,
   "metadata": {},
   "outputs": [
    {
     "data": {
      "text/html": [
       "<div>\n",
       "<style scoped>\n",
       "    .dataframe tbody tr th:only-of-type {\n",
       "        vertical-align: middle;\n",
       "    }\n",
       "\n",
       "    .dataframe tbody tr th {\n",
       "        vertical-align: top;\n",
       "    }\n",
       "\n",
       "    .dataframe thead th {\n",
       "        text-align: right;\n",
       "    }\n",
       "</style>\n",
       "<table border=\"1\" class=\"dataframe\">\n",
       "  <thead>\n",
       "    <tr style=\"text-align: right;\">\n",
       "      <th></th>\n",
       "      <th>YEAR</th>\n",
       "      <th>TICKETS SOLD</th>\n",
       "      <th>TOTAL BOX OFFICE</th>\n",
       "      <th>TOTAL INFLATION ADJUSTED BOX OFFICE</th>\n",
       "      <th>AVERAGE TICKET PRICE</th>\n",
       "      <th>Unnamed: 5</th>\n",
       "    </tr>\n",
       "  </thead>\n",
       "  <tbody>\n",
       "    <tr>\n",
       "      <th>0</th>\n",
       "      <td>2021</td>\n",
       "      <td>42,37,74,881</td>\n",
       "      <td>$3,881,777,912</td>\n",
       "      <td>$3,881,777,912</td>\n",
       "      <td>$9.16</td>\n",
       "      <td>NaN</td>\n",
       "    </tr>\n",
       "    <tr>\n",
       "      <th>1</th>\n",
       "      <td>2020</td>\n",
       "      <td>22,36,38,958</td>\n",
       "      <td>$2,048,534,616</td>\n",
       "      <td>$2,048,534,616</td>\n",
       "      <td>$9.16</td>\n",
       "      <td>NaN</td>\n",
       "    </tr>\n",
       "    <tr>\n",
       "      <th>2</th>\n",
       "      <td>2019</td>\n",
       "      <td>1,22,85,41,629</td>\n",
       "      <td>$11,253,443,955</td>\n",
       "      <td>$11,253,444,050</td>\n",
       "      <td>$9.16</td>\n",
       "      <td>NaN</td>\n",
       "    </tr>\n",
       "    <tr>\n",
       "      <th>3</th>\n",
       "      <td>2018</td>\n",
       "      <td>1,31,15,36,128</td>\n",
       "      <td>$11,948,096,650</td>\n",
       "      <td>$12,013,670,952</td>\n",
       "      <td>$9.11</td>\n",
       "      <td>NaN</td>\n",
       "    </tr>\n",
       "    <tr>\n",
       "      <th>4</th>\n",
       "      <td>2017</td>\n",
       "      <td>1,22,56,39,761</td>\n",
       "      <td>$10,993,991,460</td>\n",
       "      <td>$11,226,860,216</td>\n",
       "      <td>$8.97</td>\n",
       "      <td>NaN</td>\n",
       "    </tr>\n",
       "  </tbody>\n",
       "</table>\n",
       "</div>"
      ],
      "text/plain": [
       "   YEAR    TICKETS SOLD TOTAL BOX OFFICE TOTAL INFLATION ADJUSTED BOX OFFICE  \\\n",
       "0  2021    42,37,74,881   $3,881,777,912                      $3,881,777,912   \n",
       "1  2020    22,36,38,958   $2,048,534,616                      $2,048,534,616   \n",
       "2  2019  1,22,85,41,629  $11,253,443,955                     $11,253,444,050   \n",
       "3  2018  1,31,15,36,128  $11,948,096,650                     $12,013,670,952   \n",
       "4  2017  1,22,56,39,761  $10,993,991,460                     $11,226,860,216   \n",
       "\n",
       "  AVERAGE TICKET PRICE  Unnamed: 5  \n",
       "0                $9.16         NaN  \n",
       "1                $9.16         NaN  \n",
       "2                $9.16         NaN  \n",
       "3                $9.11         NaN  \n",
       "4                $8.97         NaN  "
      ]
     },
     "execution_count": 58,
     "metadata": {},
     "output_type": "execute_result"
    }
   ],
   "source": [
    "annual_ticket_sales.head()"
   ]
  },
  {
   "cell_type": "code",
   "execution_count": 59,
   "metadata": {},
   "outputs": [],
   "source": [
    "annual_ticket_sales.drop(columns=[\"Unnamed: 5\"], axis=1, inplace=True)"
   ]
  },
  {
   "cell_type": "code",
   "execution_count": 60,
   "metadata": {},
   "outputs": [
    {
     "data": {
      "text/plain": [
       "YEAR                                   0\n",
       "TICKETS SOLD                           0\n",
       "TOTAL BOX OFFICE                       0\n",
       "TOTAL INFLATION ADJUSTED BOX OFFICE    0\n",
       "AVERAGE TICKET PRICE                   0\n",
       "dtype: int64"
      ]
     },
     "execution_count": 60,
     "metadata": {},
     "output_type": "execute_result"
    }
   ],
   "source": [
    "annual_ticket_sales.isnull().sum()"
   ]
  },
  {
   "cell_type": "code",
   "execution_count": 61,
   "metadata": {},
   "outputs": [
    {
     "name": "stdout",
     "output_type": "stream",
     "text": [
      "<class 'pandas.core.frame.DataFrame'>\n",
      "RangeIndex: 27 entries, 0 to 26\n",
      "Data columns (total 5 columns):\n",
      " #   Column                               Non-Null Count  Dtype \n",
      "---  ------                               --------------  ----- \n",
      " 0   YEAR                                 27 non-null     int64 \n",
      " 1   TICKETS SOLD                         27 non-null     object\n",
      " 2   TOTAL BOX OFFICE                     27 non-null     object\n",
      " 3   TOTAL INFLATION ADJUSTED BOX OFFICE  27 non-null     object\n",
      " 4   AVERAGE TICKET PRICE                 27 non-null     object\n",
      "dtypes: int64(1), object(4)\n",
      "memory usage: 1.2+ KB\n"
     ]
    }
   ],
   "source": [
    "annual_ticket_sales.info()"
   ]
  },
  {
   "cell_type": "code",
   "execution_count": 62,
   "metadata": {},
   "outputs": [
    {
     "name": "stderr",
     "output_type": "stream",
     "text": [
      "C:\\Users\\Casper\\AppData\\Local\\Temp/ipykernel_2888/2879960655.py:5: FutureWarning:\n",
      "\n",
      "The default value of regex will change from True to False in a future version. In addition, single character regular expressions will *not* be treated as literal strings when regex=True.\n",
      "\n",
      "C:\\Users\\Casper\\AppData\\Local\\Temp/ipykernel_2888/2879960655.py:7: FutureWarning:\n",
      "\n",
      "The default value of regex will change from True to False in a future version. In addition, single character regular expressions will *not* be treated as literal strings when regex=True.\n",
      "\n"
     ]
    }
   ],
   "source": [
    "annual_ticket_sales[\"TICKETS SOLD\"] = annual_ticket_sales[\"TICKETS SOLD\"].str.replace(\",\",\"\")\n",
    "\n",
    "for i in [\"TOTAL BOX OFFICE\",\"TOTAL INFLATION ADJUSTED BOX OFFICE\"]:\n",
    "    annual_ticket_sales[i] = annual_ticket_sales[i].str.replace(\",\",\"\")\n",
    "    annual_ticket_sales[i] = annual_ticket_sales[i].str.replace(\"$\",\"\")\n",
    "\n",
    "annual_ticket_sales[\"AVERAGE TICKET PRICE\"] = annual_ticket_sales[\"AVERAGE TICKET PRICE\"].str.replace(\"$\", \"\")"
   ]
  },
  {
   "cell_type": "code",
   "execution_count": 63,
   "metadata": {},
   "outputs": [
    {
     "data": {
      "text/html": [
       "<div>\n",
       "<style scoped>\n",
       "    .dataframe tbody tr th:only-of-type {\n",
       "        vertical-align: middle;\n",
       "    }\n",
       "\n",
       "    .dataframe tbody tr th {\n",
       "        vertical-align: top;\n",
       "    }\n",
       "\n",
       "    .dataframe thead th {\n",
       "        text-align: right;\n",
       "    }\n",
       "</style>\n",
       "<table border=\"1\" class=\"dataframe\">\n",
       "  <thead>\n",
       "    <tr style=\"text-align: right;\">\n",
       "      <th></th>\n",
       "      <th>YEAR</th>\n",
       "      <th>TICKETS SOLD</th>\n",
       "      <th>TOTAL BOX OFFICE</th>\n",
       "      <th>TOTAL INFLATION ADJUSTED BOX OFFICE</th>\n",
       "      <th>AVERAGE TICKET PRICE</th>\n",
       "    </tr>\n",
       "  </thead>\n",
       "  <tbody>\n",
       "    <tr>\n",
       "      <th>0</th>\n",
       "      <td>2021</td>\n",
       "      <td>423774881</td>\n",
       "      <td>3881777912</td>\n",
       "      <td>3881777912</td>\n",
       "      <td>9.16</td>\n",
       "    </tr>\n",
       "    <tr>\n",
       "      <th>1</th>\n",
       "      <td>2020</td>\n",
       "      <td>223638958</td>\n",
       "      <td>2048534616</td>\n",
       "      <td>2048534616</td>\n",
       "      <td>9.16</td>\n",
       "    </tr>\n",
       "    <tr>\n",
       "      <th>2</th>\n",
       "      <td>2019</td>\n",
       "      <td>1228541629</td>\n",
       "      <td>11253443955</td>\n",
       "      <td>11253444050</td>\n",
       "      <td>9.16</td>\n",
       "    </tr>\n",
       "    <tr>\n",
       "      <th>3</th>\n",
       "      <td>2018</td>\n",
       "      <td>1311536128</td>\n",
       "      <td>11948096650</td>\n",
       "      <td>12013670952</td>\n",
       "      <td>9.11</td>\n",
       "    </tr>\n",
       "    <tr>\n",
       "      <th>4</th>\n",
       "      <td>2017</td>\n",
       "      <td>1225639761</td>\n",
       "      <td>10993991460</td>\n",
       "      <td>11226860216</td>\n",
       "      <td>8.97</td>\n",
       "    </tr>\n",
       "  </tbody>\n",
       "</table>\n",
       "</div>"
      ],
      "text/plain": [
       "   YEAR TICKETS SOLD TOTAL BOX OFFICE TOTAL INFLATION ADJUSTED BOX OFFICE  \\\n",
       "0  2021    423774881       3881777912                          3881777912   \n",
       "1  2020    223638958       2048534616                          2048534616   \n",
       "2  2019   1228541629      11253443955                         11253444050   \n",
       "3  2018   1311536128      11948096650                         12013670952   \n",
       "4  2017   1225639761      10993991460                         11226860216   \n",
       "\n",
       "  AVERAGE TICKET PRICE  \n",
       "0                 9.16  \n",
       "1                 9.16  \n",
       "2                 9.16  \n",
       "3                 9.11  \n",
       "4                 8.97  "
      ]
     },
     "execution_count": 63,
     "metadata": {},
     "output_type": "execute_result"
    }
   ],
   "source": [
    "annual_ticket_sales.head()"
   ]
  },
  {
   "cell_type": "code",
   "execution_count": 64,
   "metadata": {},
   "outputs": [],
   "source": [
    "for col in [\"TICKETS SOLD\", \"TOTAL BOX OFFICE\", \"TOTAL INFLATION ADJUSTED BOX OFFICE\"]:\n",
    "    annual_ticket_sales[col] = pd.to_numeric(annual_ticket_sales[col])\n",
    "\n",
    "annual_ticket_sales[\"AVERAGE TICKET PRICE\"] = pd.to_numeric(annual_ticket_sales[\"AVERAGE TICKET PRICE\"], downcast=\"float\")"
   ]
  },
  {
   "cell_type": "code",
   "execution_count": 66,
   "metadata": {},
   "outputs": [],
   "source": [
    "c\n",
    "\n",
    "annual_ticket_sales[\"avg_upscaled\"] = annual_ticket_sales[\"AVERAGE TICKET PRICE\"]*150000000\n",
    "annual_ticket_sales[\"box_downscaled\"] = annual_ticket_sales[\"TOTAL BOX OFFICE\"]/5"
   ]
  },
  {
   "cell_type": "code",
   "execution_count": 67,
   "metadata": {},
   "outputs": [],
   "source": [
    "annual_ticket_sales[\"Tickets_Sold\"] = annual_ticket_sales[\"TICKETS SOLD\"]\n",
    "annual_ticket_sales[\"Average_Ticket_Price\"] = annual_ticket_sales[\"AVERAGE TICKET PRICE\"].apply(lambda x: \"Average Ticket Price: $\" + str(x)[0:4])\n",
    "annual_ticket_sales[\"Total_Box_Office\"] = annual_ticket_sales[\"TOTAL BOX OFFICE\"]"
   ]
  },
  {
   "cell_type": "code",
   "execution_count": 267,
   "metadata": {},
   "outputs": [],
   "source": [
    "def foo(x):\n",
    "    if len(str(x)) == 7:\n",
    "        return \"Tickets Sold: \" + str(x)[0:1] + \" Million\"\n",
    "    elif len(str(x)) == 8:\n",
    "        return \"Tickets Sold: \" + str(x)[0:2] + \" Million\"\n",
    "    elif len(str(x)) == 9:\n",
    "        return \"Tickets Sold: \" + str(x)[0:3] + \" Million\"\n",
    "    elif len(str(x)) == 10:\n",
    "        return \"Tickets Sold: \" + str(x)[0:1] + \".\" + str(x)[1:2] + \" Billion\"\n",
    "    elif len(str(x)) == 11:\n",
    "        return \"Tickets Sold: \" + str(x)[0:2] + \".\" + str(x)[2:3] + \" Billion\"\n",
    "    else:\n",
    "        return \"Tickets Sold: \" + str(x)[0:3] + \".\" + str(x)[3:4] + \" Billion\"\n",
    "\n",
    "def foo_2(x):\n",
    "    if len(str(x)) == 7:\n",
    "        return \"Total Box Office: \" + str(x)[0:1] + \" Million\"\n",
    "    elif len(str(x)) == 8:\n",
    "        return \"Total Box Office: \" + str(x)[0:2] + \" Million\"\n",
    "    elif len(str(x)) == 9:\n",
    "        return \"Total Box Office: \" + str(x)[0:3] + \" Million\"\n",
    "    elif len(str(x)) == 10:\n",
    "        return \"Total Box Office: \" + str(x)[0:1] + \".\" + str(x)[1:2] + \" Billion\"\n",
    "    elif len(str(x)) == 11:\n",
    "        return \"Total Box Office: \" + str(x)[0:2] + \".\" + str(x)[2:3] + \" Billion\"\n",
    "    else:\n",
    "        return \"Total Box Office: \" + str(x)[0:3] + \".\" + str(x)[3:4] + \" Billion\""
   ]
  },
  {
   "cell_type": "code",
   "execution_count": 268,
   "metadata": {},
   "outputs": [],
   "source": [
    "annual_ticket_sales[\"TS\"] = annual_ticket_sales[\"Tickets_Sold\"].apply(foo)\n",
    "annual_ticket_sales[\"TBO\"] = annual_ticket_sales[\"Total_Box_Office\"].apply(foo_2)"
   ]
  },
  {
   "cell_type": "code",
   "execution_count": 269,
   "metadata": {},
   "outputs": [
    {
     "data": {
      "application/vnd.plotly.v1+json": {
       "config": {
        "plotlyServerURL": "https://plot.ly"
       },
       "data": [
        {
         "alignmentgroup": "True",
         "customdata": [
          [
           "Tickets Sold: 423 Million"
          ],
          [
           "Tickets Sold: 223 Million"
          ],
          [
           "Tickets Sold: 1.2 Billion"
          ],
          [
           "Tickets Sold: 1.3 Billion"
          ],
          [
           "Tickets Sold: 1.2 Billion"
          ],
          [
           "Tickets Sold: 1.3 Billion"
          ],
          [
           "Tickets Sold: 1.3 Billion"
          ],
          [
           "Tickets Sold: 1.2 Billion"
          ],
          [
           "Tickets Sold: 1.3 Billion"
          ],
          [
           "Tickets Sold: 1.3 Billion"
          ],
          [
           "Tickets Sold: 1.2 Billion"
          ],
          [
           "Tickets Sold: 1.3 Billion"
          ],
          [
           "Tickets Sold: 1.4 Billion"
          ],
          [
           "Tickets Sold: 1.3 Billion"
          ],
          [
           "Tickets Sold: 1.4 Billion"
          ],
          [
           "Tickets Sold: 1.3 Billion"
          ],
          [
           "Tickets Sold: 1.3 Billion"
          ],
          [
           "Tickets Sold: 1.4 Billion"
          ],
          [
           "Tickets Sold: 1.5 Billion"
          ],
          [
           "Tickets Sold: 1.5 Billion"
          ],
          [
           "Tickets Sold: 1.4 Billion"
          ],
          [
           "Tickets Sold: 1.3 Billion"
          ],
          [
           "Tickets Sold: 1.4 Billion"
          ],
          [
           "Tickets Sold: 1.4 Billion"
          ],
          [
           "Tickets Sold: 1.3 Billion"
          ],
          [
           "Tickets Sold: 1.3 Billion"
          ],
          [
           "Tickets Sold: 1.2 Billion"
          ]
         ],
         "hovertemplate": "<b>%{customdata[0]}<b>",
         "legendgroup": "",
         "marker": {
          "color": "Teal",
          "pattern": {
           "shape": ""
          }
         },
         "name": "",
         "offsetgroup": "",
         "orientation": "v",
         "showlegend": false,
         "textposition": "auto",
         "type": "bar",
         "x": [
          2021,
          2020,
          2019,
          2018,
          2017,
          2016,
          2015,
          2014,
          2013,
          2012,
          2011,
          2010,
          2009,
          2008,
          2007,
          2006,
          2005,
          2004,
          2003,
          2002,
          2001,
          2000,
          1999,
          1998,
          1997,
          1996,
          1995
         ],
         "xaxis": "x",
         "y": [
          423774881,
          223638958,
          1228541629,
          1311536128,
          1225639761,
          1302556378,
          1323356776,
          1257402920,
          1339168926,
          1380921942,
          1282915168,
          1328549021,
          1418567388,
          1358042073,
          1420036680,
          1398738283,
          1372980280,
          1495651298,
          1524589620,
          1575756527,
          1465874205,
          1397460079,
          1444664086,
          1443832471,
          1357349648,
          1305221290,
          1221705907
         ],
         "yaxis": "y"
        },
        {
         "customdata": [
          [
           "Average Ticket Price: $9.15"
          ],
          [
           "Average Ticket Price: $9.15"
          ],
          [
           "Average Ticket Price: $9.15"
          ],
          [
           "Average Ticket Price: $9.10"
          ],
          [
           "Average Ticket Price: $8.97"
          ],
          [
           "Average Ticket Price: $8.64"
          ],
          [
           "Average Ticket Price: $8.43"
          ],
          [
           "Average Ticket Price: $8.17"
          ],
          [
           "Average Ticket Price: $8.13"
          ],
          [
           "Average Ticket Price: $7.96"
          ],
          [
           "Average Ticket Price: $7.92"
          ],
          [
           "Average Ticket Price: $7.88"
          ],
          [
           "Average Ticket Price: $7.5"
          ],
          [
           "Average Ticket Price: $7.17"
          ],
          [
           "Average Ticket Price: $6.88"
          ],
          [
           "Average Ticket Price: $6.55"
          ],
          [
           "Average Ticket Price: $6.40"
          ],
          [
           "Average Ticket Price: $6.21"
          ],
          [
           "Average Ticket Price: $6.03"
          ],
          [
           "Average Ticket Price: $5.80"
          ],
          [
           "Average Ticket Price: $5.65"
          ],
          [
           "Average Ticket Price: $5.38"
          ],
          [
           "Average Ticket Price: $5.07"
          ],
          [
           "Average Ticket Price: $4.69"
          ],
          [
           "Average Ticket Price: $4.59"
          ],
          [
           "Average Ticket Price: $4.42"
          ],
          [
           "Average Ticket Price: $4.34"
          ]
         ],
         "hovertemplate": "<b>%{customdata[0]}<b>",
         "legendgroup": "",
         "line": {
          "color": "Black",
          "dash": "solid"
         },
         "marker": {
          "symbol": "circle"
         },
         "mode": "lines",
         "name": "",
         "orientation": "v",
         "showlegend": false,
         "type": "scatter",
         "x": [
          2021,
          2020,
          2019,
          2018,
          2017,
          2016,
          2015,
          2014,
          2013,
          2012,
          2011,
          2010,
          2009,
          2008,
          2007,
          2006,
          2005,
          2004,
          2003,
          2002,
          2001,
          2000,
          1999,
          1998,
          1997,
          1996,
          1995
         ],
         "xaxis": "x",
         "y": [
          1373999977.1118164,
          1373999977.1118164,
          1373999977.1118164,
          1366499948.501587,
          1345500040.0543213,
          1297499942.779541,
          1264500045.7763672,
          1225500011.4440918,
          1219500017.1661377,
          1194000005.722046,
          1189499974.2507935,
          1183499979.9728394,
          1125000000,
          1076999974.2507935,
          1032000017.1661377,
          982500028.6102295,
          961499977.1118164,
          931500005.7220459,
          904500031.4712524,
          871499991.4169312,
          848999977.1118164,
          808499979.9728394,
          761999988.5559082,
          703500008.5830688,
          688500022.8881836,
          663000011.4440918,
          652499985.6948853
         ],
         "yaxis": "y"
        },
        {
         "customdata": [
          [
           "Total Box Office: 3.8 Billion"
          ],
          [
           "Total Box Office: 2.0 Billion"
          ],
          [
           "Total Box Office: 11.2 Billion"
          ],
          [
           "Total Box Office: 11.9 Billion"
          ],
          [
           "Total Box Office: 10.9 Billion"
          ],
          [
           "Total Box Office: 11.2 Billion"
          ],
          [
           "Total Box Office: 11.1 Billion"
          ],
          [
           "Total Box Office: 10.2 Billion"
          ],
          [
           "Total Box Office: 10.8 Billion"
          ],
          [
           "Total Box Office: 10.9 Billion"
          ],
          [
           "Total Box Office: 10.1 Billion"
          ],
          [
           "Total Box Office: 10.4 Billion"
          ],
          [
           "Total Box Office: 10.6 Billion"
          ],
          [
           "Total Box Office: 9.7 Billion"
          ],
          [
           "Total Box Office: 9.7 Billion"
          ],
          [
           "Total Box Office: 9.1 Billion"
          ],
          [
           "Total Box Office: 8.8 Billion"
          ],
          [
           "Total Box Office: 9.2 Billion"
          ],
          [
           "Total Box Office: 9.1 Billion"
          ],
          [
           "Total Box Office: 9.1 Billion"
          ],
          [
           "Total Box Office: 8.2 Billion"
          ],
          [
           "Total Box Office: 7.5 Billion"
          ],
          [
           "Total Box Office: 7.3 Billion"
          ],
          [
           "Total Box Office: 6.7 Billion"
          ],
          [
           "Total Box Office: 6.2 Billion"
          ],
          [
           "Total Box Office: 5.7 Billion"
          ],
          [
           "Total Box Office: 5.3 Billion"
          ]
         ],
         "hovertemplate": "<b>%{customdata[0]}<b>",
         "legendgroup": "",
         "line": {
          "color": "Red",
          "dash": "solid"
         },
         "marker": {
          "symbol": "circle"
         },
         "mode": "lines",
         "name": "",
         "orientation": "v",
         "showlegend": false,
         "type": "scatter",
         "x": [
          2021,
          2020,
          2019,
          2018,
          2017,
          2016,
          2015,
          2014,
          2013,
          2012,
          2011,
          2010,
          2009,
          2008,
          2007,
          2006,
          2005,
          2004,
          2003,
          2002,
          2001,
          2000,
          1999,
          1998,
          1997,
          1996,
          1995
         ],
         "xaxis": "x",
         "y": [
          776355582.4,
          409706923.2,
          2250688791,
          2389619330,
          2198798292,
          2253423184.8,
          2231180127.2,
          2054597001.6,
          2177489268.2,
          2198428323.2,
          2034703940.8,
          2096450805,
          2127851456.8,
          1950148829.6,
          1953970982.8,
          1832347644.2,
          1760161143.6,
          1857599303.8,
          1838655457.8,
          1831029443,
          1659369927.2,
          1506462295.8,
          1467778970.4,
          1354315056.6,
          1246047154,
          1153815777.2,
          1062884278
         ],
         "yaxis": "y"
        }
       ],
       "layout": {
        "font": {
         "family": "Rockwell"
        },
        "hovermode": "x unified",
        "legend": {
         "orientation": "h",
         "title": {},
         "x": 0.5,
         "xanchor": "center",
         "y": 1,
         "yanchor": "bottom"
        },
        "template": {
         "data": {
          "bar": [
           {
            "error_x": {
             "color": "rgb(36,36,36)"
            },
            "error_y": {
             "color": "rgb(36,36,36)"
            },
            "marker": {
             "line": {
              "color": "white",
              "width": 0.5
             },
             "pattern": {
              "fillmode": "overlay",
              "size": 10,
              "solidity": 0.2
             }
            },
            "type": "bar"
           }
          ],
          "barpolar": [
           {
            "marker": {
             "line": {
              "color": "white",
              "width": 0.5
             },
             "pattern": {
              "fillmode": "overlay",
              "size": 10,
              "solidity": 0.2
             }
            },
            "type": "barpolar"
           }
          ],
          "carpet": [
           {
            "aaxis": {
             "endlinecolor": "rgb(36,36,36)",
             "gridcolor": "white",
             "linecolor": "white",
             "minorgridcolor": "white",
             "startlinecolor": "rgb(36,36,36)"
            },
            "baxis": {
             "endlinecolor": "rgb(36,36,36)",
             "gridcolor": "white",
             "linecolor": "white",
             "minorgridcolor": "white",
             "startlinecolor": "rgb(36,36,36)"
            },
            "type": "carpet"
           }
          ],
          "choropleth": [
           {
            "colorbar": {
             "outlinewidth": 1,
             "tickcolor": "rgb(36,36,36)",
             "ticks": "outside"
            },
            "type": "choropleth"
           }
          ],
          "contour": [
           {
            "colorbar": {
             "outlinewidth": 1,
             "tickcolor": "rgb(36,36,36)",
             "ticks": "outside"
            },
            "colorscale": [
             [
              0,
              "#440154"
             ],
             [
              0.1111111111111111,
              "#482878"
             ],
             [
              0.2222222222222222,
              "#3e4989"
             ],
             [
              0.3333333333333333,
              "#31688e"
             ],
             [
              0.4444444444444444,
              "#26828e"
             ],
             [
              0.5555555555555556,
              "#1f9e89"
             ],
             [
              0.6666666666666666,
              "#35b779"
             ],
             [
              0.7777777777777778,
              "#6ece58"
             ],
             [
              0.8888888888888888,
              "#b5de2b"
             ],
             [
              1,
              "#fde725"
             ]
            ],
            "type": "contour"
           }
          ],
          "contourcarpet": [
           {
            "colorbar": {
             "outlinewidth": 1,
             "tickcolor": "rgb(36,36,36)",
             "ticks": "outside"
            },
            "type": "contourcarpet"
           }
          ],
          "heatmap": [
           {
            "colorbar": {
             "outlinewidth": 1,
             "tickcolor": "rgb(36,36,36)",
             "ticks": "outside"
            },
            "colorscale": [
             [
              0,
              "#440154"
             ],
             [
              0.1111111111111111,
              "#482878"
             ],
             [
              0.2222222222222222,
              "#3e4989"
             ],
             [
              0.3333333333333333,
              "#31688e"
             ],
             [
              0.4444444444444444,
              "#26828e"
             ],
             [
              0.5555555555555556,
              "#1f9e89"
             ],
             [
              0.6666666666666666,
              "#35b779"
             ],
             [
              0.7777777777777778,
              "#6ece58"
             ],
             [
              0.8888888888888888,
              "#b5de2b"
             ],
             [
              1,
              "#fde725"
             ]
            ],
            "type": "heatmap"
           }
          ],
          "heatmapgl": [
           {
            "colorbar": {
             "outlinewidth": 1,
             "tickcolor": "rgb(36,36,36)",
             "ticks": "outside"
            },
            "colorscale": [
             [
              0,
              "#440154"
             ],
             [
              0.1111111111111111,
              "#482878"
             ],
             [
              0.2222222222222222,
              "#3e4989"
             ],
             [
              0.3333333333333333,
              "#31688e"
             ],
             [
              0.4444444444444444,
              "#26828e"
             ],
             [
              0.5555555555555556,
              "#1f9e89"
             ],
             [
              0.6666666666666666,
              "#35b779"
             ],
             [
              0.7777777777777778,
              "#6ece58"
             ],
             [
              0.8888888888888888,
              "#b5de2b"
             ],
             [
              1,
              "#fde725"
             ]
            ],
            "type": "heatmapgl"
           }
          ],
          "histogram": [
           {
            "marker": {
             "line": {
              "color": "white",
              "width": 0.6
             }
            },
            "type": "histogram"
           }
          ],
          "histogram2d": [
           {
            "colorbar": {
             "outlinewidth": 1,
             "tickcolor": "rgb(36,36,36)",
             "ticks": "outside"
            },
            "colorscale": [
             [
              0,
              "#440154"
             ],
             [
              0.1111111111111111,
              "#482878"
             ],
             [
              0.2222222222222222,
              "#3e4989"
             ],
             [
              0.3333333333333333,
              "#31688e"
             ],
             [
              0.4444444444444444,
              "#26828e"
             ],
             [
              0.5555555555555556,
              "#1f9e89"
             ],
             [
              0.6666666666666666,
              "#35b779"
             ],
             [
              0.7777777777777778,
              "#6ece58"
             ],
             [
              0.8888888888888888,
              "#b5de2b"
             ],
             [
              1,
              "#fde725"
             ]
            ],
            "type": "histogram2d"
           }
          ],
          "histogram2dcontour": [
           {
            "colorbar": {
             "outlinewidth": 1,
             "tickcolor": "rgb(36,36,36)",
             "ticks": "outside"
            },
            "colorscale": [
             [
              0,
              "#440154"
             ],
             [
              0.1111111111111111,
              "#482878"
             ],
             [
              0.2222222222222222,
              "#3e4989"
             ],
             [
              0.3333333333333333,
              "#31688e"
             ],
             [
              0.4444444444444444,
              "#26828e"
             ],
             [
              0.5555555555555556,
              "#1f9e89"
             ],
             [
              0.6666666666666666,
              "#35b779"
             ],
             [
              0.7777777777777778,
              "#6ece58"
             ],
             [
              0.8888888888888888,
              "#b5de2b"
             ],
             [
              1,
              "#fde725"
             ]
            ],
            "type": "histogram2dcontour"
           }
          ],
          "mesh3d": [
           {
            "colorbar": {
             "outlinewidth": 1,
             "tickcolor": "rgb(36,36,36)",
             "ticks": "outside"
            },
            "type": "mesh3d"
           }
          ],
          "parcoords": [
           {
            "line": {
             "colorbar": {
              "outlinewidth": 1,
              "tickcolor": "rgb(36,36,36)",
              "ticks": "outside"
             }
            },
            "type": "parcoords"
           }
          ],
          "pie": [
           {
            "automargin": true,
            "type": "pie"
           }
          ],
          "scatter": [
           {
            "marker": {
             "colorbar": {
              "outlinewidth": 1,
              "tickcolor": "rgb(36,36,36)",
              "ticks": "outside"
             }
            },
            "type": "scatter"
           }
          ],
          "scatter3d": [
           {
            "line": {
             "colorbar": {
              "outlinewidth": 1,
              "tickcolor": "rgb(36,36,36)",
              "ticks": "outside"
             }
            },
            "marker": {
             "colorbar": {
              "outlinewidth": 1,
              "tickcolor": "rgb(36,36,36)",
              "ticks": "outside"
             }
            },
            "type": "scatter3d"
           }
          ],
          "scattercarpet": [
           {
            "marker": {
             "colorbar": {
              "outlinewidth": 1,
              "tickcolor": "rgb(36,36,36)",
              "ticks": "outside"
             }
            },
            "type": "scattercarpet"
           }
          ],
          "scattergeo": [
           {
            "marker": {
             "colorbar": {
              "outlinewidth": 1,
              "tickcolor": "rgb(36,36,36)",
              "ticks": "outside"
             }
            },
            "type": "scattergeo"
           }
          ],
          "scattergl": [
           {
            "marker": {
             "colorbar": {
              "outlinewidth": 1,
              "tickcolor": "rgb(36,36,36)",
              "ticks": "outside"
             }
            },
            "type": "scattergl"
           }
          ],
          "scattermapbox": [
           {
            "marker": {
             "colorbar": {
              "outlinewidth": 1,
              "tickcolor": "rgb(36,36,36)",
              "ticks": "outside"
             }
            },
            "type": "scattermapbox"
           }
          ],
          "scatterpolar": [
           {
            "marker": {
             "colorbar": {
              "outlinewidth": 1,
              "tickcolor": "rgb(36,36,36)",
              "ticks": "outside"
             }
            },
            "type": "scatterpolar"
           }
          ],
          "scatterpolargl": [
           {
            "marker": {
             "colorbar": {
              "outlinewidth": 1,
              "tickcolor": "rgb(36,36,36)",
              "ticks": "outside"
             }
            },
            "type": "scatterpolargl"
           }
          ],
          "scatterternary": [
           {
            "marker": {
             "colorbar": {
              "outlinewidth": 1,
              "tickcolor": "rgb(36,36,36)",
              "ticks": "outside"
             }
            },
            "type": "scatterternary"
           }
          ],
          "surface": [
           {
            "colorbar": {
             "outlinewidth": 1,
             "tickcolor": "rgb(36,36,36)",
             "ticks": "outside"
            },
            "colorscale": [
             [
              0,
              "#440154"
             ],
             [
              0.1111111111111111,
              "#482878"
             ],
             [
              0.2222222222222222,
              "#3e4989"
             ],
             [
              0.3333333333333333,
              "#31688e"
             ],
             [
              0.4444444444444444,
              "#26828e"
             ],
             [
              0.5555555555555556,
              "#1f9e89"
             ],
             [
              0.6666666666666666,
              "#35b779"
             ],
             [
              0.7777777777777778,
              "#6ece58"
             ],
             [
              0.8888888888888888,
              "#b5de2b"
             ],
             [
              1,
              "#fde725"
             ]
            ],
            "type": "surface"
           }
          ],
          "table": [
           {
            "cells": {
             "fill": {
              "color": "rgb(237,237,237)"
             },
             "line": {
              "color": "white"
             }
            },
            "header": {
             "fill": {
              "color": "rgb(217,217,217)"
             },
             "line": {
              "color": "white"
             }
            },
            "type": "table"
           }
          ]
         },
         "layout": {
          "annotationdefaults": {
           "arrowhead": 0,
           "arrowwidth": 1
          },
          "autotypenumbers": "strict",
          "coloraxis": {
           "colorbar": {
            "outlinewidth": 1,
            "tickcolor": "rgb(36,36,36)",
            "ticks": "outside"
           }
          },
          "colorscale": {
           "diverging": [
            [
             0,
             "rgb(103,0,31)"
            ],
            [
             0.1,
             "rgb(178,24,43)"
            ],
            [
             0.2,
             "rgb(214,96,77)"
            ],
            [
             0.3,
             "rgb(244,165,130)"
            ],
            [
             0.4,
             "rgb(253,219,199)"
            ],
            [
             0.5,
             "rgb(247,247,247)"
            ],
            [
             0.6,
             "rgb(209,229,240)"
            ],
            [
             0.7,
             "rgb(146,197,222)"
            ],
            [
             0.8,
             "rgb(67,147,195)"
            ],
            [
             0.9,
             "rgb(33,102,172)"
            ],
            [
             1,
             "rgb(5,48,97)"
            ]
           ],
           "sequential": [
            [
             0,
             "#440154"
            ],
            [
             0.1111111111111111,
             "#482878"
            ],
            [
             0.2222222222222222,
             "#3e4989"
            ],
            [
             0.3333333333333333,
             "#31688e"
            ],
            [
             0.4444444444444444,
             "#26828e"
            ],
            [
             0.5555555555555556,
             "#1f9e89"
            ],
            [
             0.6666666666666666,
             "#35b779"
            ],
            [
             0.7777777777777778,
             "#6ece58"
            ],
            [
             0.8888888888888888,
             "#b5de2b"
            ],
            [
             1,
             "#fde725"
            ]
           ],
           "sequentialminus": [
            [
             0,
             "#440154"
            ],
            [
             0.1111111111111111,
             "#482878"
            ],
            [
             0.2222222222222222,
             "#3e4989"
            ],
            [
             0.3333333333333333,
             "#31688e"
            ],
            [
             0.4444444444444444,
             "#26828e"
            ],
            [
             0.5555555555555556,
             "#1f9e89"
            ],
            [
             0.6666666666666666,
             "#35b779"
            ],
            [
             0.7777777777777778,
             "#6ece58"
            ],
            [
             0.8888888888888888,
             "#b5de2b"
            ],
            [
             1,
             "#fde725"
            ]
           ]
          },
          "colorway": [
           "#1F77B4",
           "#FF7F0E",
           "#2CA02C",
           "#D62728",
           "#9467BD",
           "#8C564B",
           "#E377C2",
           "#7F7F7F",
           "#BCBD22",
           "#17BECF"
          ],
          "font": {
           "color": "rgb(36,36,36)"
          },
          "geo": {
           "bgcolor": "white",
           "lakecolor": "white",
           "landcolor": "white",
           "showlakes": true,
           "showland": true,
           "subunitcolor": "white"
          },
          "hoverlabel": {
           "align": "left"
          },
          "hovermode": "closest",
          "mapbox": {
           "style": "light"
          },
          "paper_bgcolor": "white",
          "plot_bgcolor": "white",
          "polar": {
           "angularaxis": {
            "gridcolor": "rgb(232,232,232)",
            "linecolor": "rgb(36,36,36)",
            "showgrid": false,
            "showline": true,
            "ticks": "outside"
           },
           "bgcolor": "white",
           "radialaxis": {
            "gridcolor": "rgb(232,232,232)",
            "linecolor": "rgb(36,36,36)",
            "showgrid": false,
            "showline": true,
            "ticks": "outside"
           }
          },
          "scene": {
           "xaxis": {
            "backgroundcolor": "white",
            "gridcolor": "rgb(232,232,232)",
            "gridwidth": 2,
            "linecolor": "rgb(36,36,36)",
            "showbackground": true,
            "showgrid": false,
            "showline": true,
            "ticks": "outside",
            "zeroline": false,
            "zerolinecolor": "rgb(36,36,36)"
           },
           "yaxis": {
            "backgroundcolor": "white",
            "gridcolor": "rgb(232,232,232)",
            "gridwidth": 2,
            "linecolor": "rgb(36,36,36)",
            "showbackground": true,
            "showgrid": false,
            "showline": true,
            "ticks": "outside",
            "zeroline": false,
            "zerolinecolor": "rgb(36,36,36)"
           },
           "zaxis": {
            "backgroundcolor": "white",
            "gridcolor": "rgb(232,232,232)",
            "gridwidth": 2,
            "linecolor": "rgb(36,36,36)",
            "showbackground": true,
            "showgrid": false,
            "showline": true,
            "ticks": "outside",
            "zeroline": false,
            "zerolinecolor": "rgb(36,36,36)"
           }
          },
          "shapedefaults": {
           "fillcolor": "black",
           "line": {
            "width": 0
           },
           "opacity": 0.3
          },
          "ternary": {
           "aaxis": {
            "gridcolor": "rgb(232,232,232)",
            "linecolor": "rgb(36,36,36)",
            "showgrid": false,
            "showline": true,
            "ticks": "outside"
           },
           "baxis": {
            "gridcolor": "rgb(232,232,232)",
            "linecolor": "rgb(36,36,36)",
            "showgrid": false,
            "showline": true,
            "ticks": "outside"
           },
           "bgcolor": "white",
           "caxis": {
            "gridcolor": "rgb(232,232,232)",
            "linecolor": "rgb(36,36,36)",
            "showgrid": false,
            "showline": true,
            "ticks": "outside"
           }
          },
          "title": {
           "x": 0.05
          },
          "xaxis": {
           "automargin": true,
           "gridcolor": "rgb(232,232,232)",
           "linecolor": "rgb(36,36,36)",
           "showgrid": false,
           "showline": true,
           "ticks": "outside",
           "title": {
            "standoff": 15
           },
           "zeroline": false,
           "zerolinecolor": "rgb(36,36,36)"
          },
          "yaxis": {
           "automargin": true,
           "gridcolor": "rgb(232,232,232)",
           "linecolor": "rgb(36,36,36)",
           "showgrid": false,
           "showline": true,
           "ticks": "outside",
           "title": {
            "standoff": 15
           },
           "zeroline": false,
           "zerolinecolor": "rgb(36,36,36)"
          }
         }
        },
        "title": {
         "text": "Ticket Sales, Average Ticket Price and Total Box Office",
         "x": 0.5
        },
        "yaxis": {
         "visible": false
        }
       }
      }
     },
     "metadata": {},
     "output_type": "display_data"
    }
   ],
   "source": [
    "fig1 = px.bar(annual_ticket_sales,\n",
    "            x=\"YEAR\",\n",
    "            y=\"TICKETS SOLD\",\n",
    "            # hover_name=\"TS\",\n",
    "            custom_data=[\"TS\"],\n",
    "            color_discrete_sequence=[\"Teal\"])\n",
    "\n",
    "fig1.update_traces(hovertemplate=\"<br>\".join([\"<b>%{customdata[0]}<b>\"]))\n",
    "\n",
    "fig2 = px.line(annual_ticket_sales,\n",
    "            x=\"YEAR\",\n",
    "            y=\"avg_upscaled\",\n",
    "            # hover_name=\"Average_Ticket_Price\",\n",
    "            custom_data=[\"Average_Ticket_Price\"],\n",
    "            color_discrete_sequence=[\"Black\"])\n",
    "\n",
    "fig2.update_traces(hovertemplate=\"<br>\".join([\"<b>%{customdata[0]}<b>\"]))\n",
    "\n",
    "# fig2.update_yaxes(tickprefix=\"$\", showgrid=True)\n",
    "\n",
    "fig3 = px.line(annual_ticket_sales,\n",
    "            x=\"YEAR\",\n",
    "            y=\"box_downscaled\",\n",
    "            # hover_name=\"TBO\",\n",
    "            custom_data=[\"TBO\"],\n",
    "            color_discrete_sequence=[\"Red\"])\n",
    "\n",
    "fig3.update_traces(hovertemplate=\"<br>\".join([\"<b>%{customdata[0]}<b>\"]))\n",
    "\n",
    "fig = go.Figure(data=fig1.data + fig2.data + fig3.data)\n",
    "\n",
    "fig.update_yaxes(visible=False)\n",
    "\n",
    "fig.update_layout(hovermode=\"x unified\", template=\"simple_white\", title=\"Ticket Sales, Average Ticket Price and Total Box Office\")\n",
    "fig.update_layout(title_x=0.5,\n",
    "    font_family=\"Rockwell\",\n",
    "    legend=dict(\n",
    "        title=None, orientation=\"h\", y=1, yanchor=\"bottom\", x=0.5, xanchor=\"center\"\n",
    "    )\n",
    ")\n",
    "\n",
    "# fig.add_annotation(text=\"COVID-19\", x=\"2020\", y=annual_ticket_sales[\"TICKETS SOLD\"].iloc[1],font_size=15, showarrow=False,bordercolor=\"red\",bgcolor=\"white\")\n",
    "\n",
    "fig.show()"
   ]
  },
  {
   "cell_type": "markdown",
   "metadata": {},
   "source": [
    "### HighestGrossers.csv"
   ]
  },
  {
   "cell_type": "code",
   "execution_count": 42,
   "metadata": {},
   "outputs": [
    {
     "data": {
      "text/html": [
       "<div>\n",
       "<style scoped>\n",
       "    .dataframe tbody tr th:only-of-type {\n",
       "        vertical-align: middle;\n",
       "    }\n",
       "\n",
       "    .dataframe tbody tr th {\n",
       "        vertical-align: top;\n",
       "    }\n",
       "\n",
       "    .dataframe thead th {\n",
       "        text-align: right;\n",
       "    }\n",
       "</style>\n",
       "<table border=\"1\" class=\"dataframe\">\n",
       "  <thead>\n",
       "    <tr style=\"text-align: right;\">\n",
       "      <th></th>\n",
       "      <th>YEAR</th>\n",
       "      <th>MOVIE</th>\n",
       "      <th>GENRE</th>\n",
       "      <th>MPAA RATING</th>\n",
       "      <th>DISTRIBUTOR</th>\n",
       "      <th>TOTAL FOR YEAR</th>\n",
       "      <th>TOTAL IN 2019 DOLLARS</th>\n",
       "      <th>TICKETS SOLD</th>\n",
       "    </tr>\n",
       "  </thead>\n",
       "  <tbody>\n",
       "    <tr>\n",
       "      <th>0</th>\n",
       "      <td>1995</td>\n",
       "      <td>Batman Forever</td>\n",
       "      <td>Drama</td>\n",
       "      <td>PG-13</td>\n",
       "      <td>Warner Bros.</td>\n",
       "      <td>$184,031,112</td>\n",
       "      <td>$387,522,978</td>\n",
       "      <td>4,23,06,002</td>\n",
       "    </tr>\n",
       "    <tr>\n",
       "      <th>1</th>\n",
       "      <td>1996</td>\n",
       "      <td>Independence Day</td>\n",
       "      <td>Adventure</td>\n",
       "      <td>PG-13</td>\n",
       "      <td>20th Century Fox</td>\n",
       "      <td>$306,169,255</td>\n",
       "      <td>$634,504,608</td>\n",
       "      <td>6,92,69,062</td>\n",
       "    </tr>\n",
       "    <tr>\n",
       "      <th>2</th>\n",
       "      <td>1997</td>\n",
       "      <td>Men in Black</td>\n",
       "      <td>Adventure</td>\n",
       "      <td>PG-13</td>\n",
       "      <td>Sony Pictures</td>\n",
       "      <td>$250,650,052</td>\n",
       "      <td>$500,207,943</td>\n",
       "      <td>5,46,07,854</td>\n",
       "    </tr>\n",
       "    <tr>\n",
       "      <th>3</th>\n",
       "      <td>1998</td>\n",
       "      <td>Titanic</td>\n",
       "      <td>Adventure</td>\n",
       "      <td>PG-13</td>\n",
       "      <td>Paramount Pictures</td>\n",
       "      <td>$443,319,081</td>\n",
       "      <td>$865,842,808</td>\n",
       "      <td>9,45,24,324</td>\n",
       "    </tr>\n",
       "    <tr>\n",
       "      <th>4</th>\n",
       "      <td>1999</td>\n",
       "      <td>Star Wars Ep. I: The Phantom Menace</td>\n",
       "      <td>Adventure</td>\n",
       "      <td>PG</td>\n",
       "      <td>20th Century Fox</td>\n",
       "      <td>$430,443,350</td>\n",
       "      <td>$776,153,749</td>\n",
       "      <td>8,47,32,942</td>\n",
       "    </tr>\n",
       "  </tbody>\n",
       "</table>\n",
       "</div>"
      ],
      "text/plain": [
       "   YEAR                                MOVIE      GENRE MPAA RATING  \\\n",
       "0  1995                       Batman Forever      Drama       PG-13   \n",
       "1  1996                     Independence Day  Adventure       PG-13   \n",
       "2  1997                         Men in Black  Adventure       PG-13   \n",
       "3  1998                              Titanic  Adventure       PG-13   \n",
       "4  1999  Star Wars Ep. I: The Phantom Menace  Adventure          PG   \n",
       "\n",
       "          DISTRIBUTOR TOTAL FOR YEAR TOTAL IN 2019 DOLLARS TICKETS SOLD  \n",
       "0        Warner Bros.   $184,031,112          $387,522,978  4,23,06,002  \n",
       "1    20th Century Fox   $306,169,255          $634,504,608  6,92,69,062  \n",
       "2       Sony Pictures   $250,650,052          $500,207,943  5,46,07,854  \n",
       "3  Paramount Pictures   $443,319,081          $865,842,808  9,45,24,324  \n",
       "4    20th Century Fox   $430,443,350          $776,153,749  8,47,32,942  "
      ]
     },
     "execution_count": 42,
     "metadata": {},
     "output_type": "execute_result"
    }
   ],
   "source": [
    "highest_grossers.head()"
   ]
  },
  {
   "cell_type": "code",
   "execution_count": 43,
   "metadata": {},
   "outputs": [
    {
     "data": {
      "text/plain": [
       "YEAR                     0\n",
       "MOVIE                    0\n",
       "GENRE                    3\n",
       "MPAA RATING              0\n",
       "DISTRIBUTOR              0\n",
       "TOTAL FOR YEAR           0\n",
       "TOTAL IN 2019 DOLLARS    0\n",
       "TICKETS SOLD             0\n",
       "dtype: int64"
      ]
     },
     "execution_count": 43,
     "metadata": {},
     "output_type": "execute_result"
    }
   ],
   "source": [
    "highest_grossers.isnull().sum()"
   ]
  },
  {
   "cell_type": "code",
   "execution_count": 44,
   "metadata": {},
   "outputs": [
    {
     "name": "stdout",
     "output_type": "stream",
     "text": [
      "<class 'pandas.core.frame.DataFrame'>\n",
      "RangeIndex: 27 entries, 0 to 26\n",
      "Data columns (total 8 columns):\n",
      " #   Column                 Non-Null Count  Dtype \n",
      "---  ------                 --------------  ----- \n",
      " 0   YEAR                   27 non-null     int64 \n",
      " 1   MOVIE                  27 non-null     object\n",
      " 2   GENRE                  24 non-null     object\n",
      " 3   MPAA RATING            27 non-null     object\n",
      " 4   DISTRIBUTOR            27 non-null     object\n",
      " 5   TOTAL FOR YEAR         27 non-null     object\n",
      " 6   TOTAL IN 2019 DOLLARS  27 non-null     object\n",
      " 7   TICKETS SOLD           27 non-null     object\n",
      "dtypes: int64(1), object(7)\n",
      "memory usage: 1.8+ KB\n"
     ]
    }
   ],
   "source": [
    "highest_grossers.info()"
   ]
  },
  {
   "cell_type": "code",
   "execution_count": 45,
   "metadata": {},
   "outputs": [
    {
     "data": {
      "text/html": [
       "<div>\n",
       "<style scoped>\n",
       "    .dataframe tbody tr th:only-of-type {\n",
       "        vertical-align: middle;\n",
       "    }\n",
       "\n",
       "    .dataframe tbody tr th {\n",
       "        vertical-align: top;\n",
       "    }\n",
       "\n",
       "    .dataframe thead th {\n",
       "        text-align: right;\n",
       "    }\n",
       "</style>\n",
       "<table border=\"1\" class=\"dataframe\">\n",
       "  <thead>\n",
       "    <tr style=\"text-align: right;\">\n",
       "      <th></th>\n",
       "      <th>YEAR</th>\n",
       "      <th>MOVIE</th>\n",
       "      <th>GENRE</th>\n",
       "      <th>MPAA RATING</th>\n",
       "      <th>DISTRIBUTOR</th>\n",
       "      <th>TOTAL FOR YEAR</th>\n",
       "      <th>TOTAL IN 2019 DOLLARS</th>\n",
       "      <th>TICKETS SOLD</th>\n",
       "    </tr>\n",
       "  </thead>\n",
       "  <tbody>\n",
       "    <tr>\n",
       "      <th>24</th>\n",
       "      <td>2019</td>\n",
       "      <td>Avengers: Endgame</td>\n",
       "      <td>NaN</td>\n",
       "      <td>PG-13</td>\n",
       "      <td>Walt Disney</td>\n",
       "      <td>$858,373,000</td>\n",
       "      <td>$858,373,002</td>\n",
       "      <td>9,37,08,843</td>\n",
       "    </tr>\n",
       "    <tr>\n",
       "      <th>25</th>\n",
       "      <td>2020</td>\n",
       "      <td>Bad Boys For Life</td>\n",
       "      <td>NaN</td>\n",
       "      <td>R</td>\n",
       "      <td>Sony Pictures</td>\n",
       "      <td>$204,417,855</td>\n",
       "      <td>$204,417,848</td>\n",
       "      <td>2,23,16,359</td>\n",
       "    </tr>\n",
       "    <tr>\n",
       "      <th>26</th>\n",
       "      <td>2021</td>\n",
       "      <td>Shang-Chi and the Legend of the Ten Rings</td>\n",
       "      <td>NaN</td>\n",
       "      <td>PG-13</td>\n",
       "      <td>Walt Disney</td>\n",
       "      <td>$224,226,704</td>\n",
       "      <td>$224,226,704</td>\n",
       "      <td>2,44,78,897</td>\n",
       "    </tr>\n",
       "  </tbody>\n",
       "</table>\n",
       "</div>"
      ],
      "text/plain": [
       "    YEAR                                      MOVIE GENRE MPAA RATING  \\\n",
       "24  2019                          Avengers: Endgame   NaN       PG-13   \n",
       "25  2020                          Bad Boys For Life   NaN           R   \n",
       "26  2021  Shang-Chi and the Legend of the Ten Rings   NaN       PG-13   \n",
       "\n",
       "      DISTRIBUTOR TOTAL FOR YEAR TOTAL IN 2019 DOLLARS TICKETS SOLD  \n",
       "24    Walt Disney   $858,373,000          $858,373,002  9,37,08,843  \n",
       "25  Sony Pictures   $204,417,855          $204,417,848  2,23,16,359  \n",
       "26    Walt Disney   $224,226,704          $224,226,704  2,44,78,897  "
      ]
     },
     "execution_count": 45,
     "metadata": {},
     "output_type": "execute_result"
    }
   ],
   "source": [
    "highest_grossers[highest_grossers[\"GENRE\"].isnull()] "
   ]
  },
  {
   "cell_type": "code",
   "execution_count": 46,
   "metadata": {},
   "outputs": [
    {
     "data": {
      "text/html": [
       "<div>\n",
       "<style scoped>\n",
       "    .dataframe tbody tr th:only-of-type {\n",
       "        vertical-align: middle;\n",
       "    }\n",
       "\n",
       "    .dataframe tbody tr th {\n",
       "        vertical-align: top;\n",
       "    }\n",
       "\n",
       "    .dataframe thead th {\n",
       "        text-align: right;\n",
       "    }\n",
       "</style>\n",
       "<table border=\"1\" class=\"dataframe\">\n",
       "  <thead>\n",
       "    <tr style=\"text-align: right;\">\n",
       "      <th></th>\n",
       "      <th>index</th>\n",
       "      <th>GENRE</th>\n",
       "    </tr>\n",
       "  </thead>\n",
       "  <tbody>\n",
       "    <tr>\n",
       "      <th>0</th>\n",
       "      <td>Adventure</td>\n",
       "      <td>14</td>\n",
       "    </tr>\n",
       "    <tr>\n",
       "      <th>1</th>\n",
       "      <td>Action</td>\n",
       "      <td>9</td>\n",
       "    </tr>\n",
       "    <tr>\n",
       "      <th>2</th>\n",
       "      <td>Drama</td>\n",
       "      <td>1</td>\n",
       "    </tr>\n",
       "  </tbody>\n",
       "</table>\n",
       "</div>"
      ],
      "text/plain": [
       "       index  GENRE\n",
       "0  Adventure     14\n",
       "1     Action      9\n",
       "2      Drama      1"
      ]
     },
     "execution_count": 46,
     "metadata": {},
     "output_type": "execute_result"
    }
   ],
   "source": [
    "highest_grossers[\"GENRE\"].value_counts().reset_index()"
   ]
  },
  {
   "cell_type": "code",
   "execution_count": 47,
   "metadata": {},
   "outputs": [],
   "source": [
    "highest_grossers.fillna(\"Adventure\", inplace=True)"
   ]
  },
  {
   "cell_type": "code",
   "execution_count": 48,
   "metadata": {},
   "outputs": [],
   "source": [
    "highest_grossers.at[25,'GENRE']=\"Action\""
   ]
  },
  {
   "cell_type": "code",
   "execution_count": 49,
   "metadata": {},
   "outputs": [
    {
     "data": {
      "text/html": [
       "<div>\n",
       "<style scoped>\n",
       "    .dataframe tbody tr th:only-of-type {\n",
       "        vertical-align: middle;\n",
       "    }\n",
       "\n",
       "    .dataframe tbody tr th {\n",
       "        vertical-align: top;\n",
       "    }\n",
       "\n",
       "    .dataframe thead th {\n",
       "        text-align: right;\n",
       "    }\n",
       "</style>\n",
       "<table border=\"1\" class=\"dataframe\">\n",
       "  <thead>\n",
       "    <tr style=\"text-align: right;\">\n",
       "      <th></th>\n",
       "      <th>YEAR</th>\n",
       "      <th>MOVIE</th>\n",
       "      <th>GENRE</th>\n",
       "      <th>MPAA RATING</th>\n",
       "      <th>DISTRIBUTOR</th>\n",
       "      <th>TOTAL FOR YEAR</th>\n",
       "      <th>TOTAL IN 2019 DOLLARS</th>\n",
       "      <th>TICKETS SOLD</th>\n",
       "    </tr>\n",
       "  </thead>\n",
       "  <tbody>\n",
       "    <tr>\n",
       "      <th>22</th>\n",
       "      <td>2017</td>\n",
       "      <td>Star Wars Ep. VIII: The Last Jedi</td>\n",
       "      <td>Action</td>\n",
       "      <td>PG-13</td>\n",
       "      <td>Walt Disney</td>\n",
       "      <td>$517,218,368</td>\n",
       "      <td>$528,173,936</td>\n",
       "      <td>5,76,60,910</td>\n",
       "    </tr>\n",
       "    <tr>\n",
       "      <th>23</th>\n",
       "      <td>2018</td>\n",
       "      <td>Black Panther</td>\n",
       "      <td>Action</td>\n",
       "      <td>PG-13</td>\n",
       "      <td>Walt Disney</td>\n",
       "      <td>$700,059,566</td>\n",
       "      <td>$703,901,821</td>\n",
       "      <td>7,68,45,177</td>\n",
       "    </tr>\n",
       "    <tr>\n",
       "      <th>24</th>\n",
       "      <td>2019</td>\n",
       "      <td>Avengers: Endgame</td>\n",
       "      <td>Adventure</td>\n",
       "      <td>PG-13</td>\n",
       "      <td>Walt Disney</td>\n",
       "      <td>$858,373,000</td>\n",
       "      <td>$858,373,002</td>\n",
       "      <td>9,37,08,843</td>\n",
       "    </tr>\n",
       "    <tr>\n",
       "      <th>25</th>\n",
       "      <td>2020</td>\n",
       "      <td>Bad Boys For Life</td>\n",
       "      <td>Action</td>\n",
       "      <td>R</td>\n",
       "      <td>Sony Pictures</td>\n",
       "      <td>$204,417,855</td>\n",
       "      <td>$204,417,848</td>\n",
       "      <td>2,23,16,359</td>\n",
       "    </tr>\n",
       "    <tr>\n",
       "      <th>26</th>\n",
       "      <td>2021</td>\n",
       "      <td>Shang-Chi and the Legend of the Ten Rings</td>\n",
       "      <td>Adventure</td>\n",
       "      <td>PG-13</td>\n",
       "      <td>Walt Disney</td>\n",
       "      <td>$224,226,704</td>\n",
       "      <td>$224,226,704</td>\n",
       "      <td>2,44,78,897</td>\n",
       "    </tr>\n",
       "  </tbody>\n",
       "</table>\n",
       "</div>"
      ],
      "text/plain": [
       "    YEAR                                      MOVIE      GENRE MPAA RATING  \\\n",
       "22  2017          Star Wars Ep. VIII: The Last Jedi     Action       PG-13   \n",
       "23  2018                              Black Panther     Action       PG-13   \n",
       "24  2019                          Avengers: Endgame  Adventure       PG-13   \n",
       "25  2020                          Bad Boys For Life     Action           R   \n",
       "26  2021  Shang-Chi and the Legend of the Ten Rings  Adventure       PG-13   \n",
       "\n",
       "      DISTRIBUTOR TOTAL FOR YEAR TOTAL IN 2019 DOLLARS TICKETS SOLD  \n",
       "22    Walt Disney   $517,218,368          $528,173,936  5,76,60,910  \n",
       "23    Walt Disney   $700,059,566          $703,901,821  7,68,45,177  \n",
       "24    Walt Disney   $858,373,000          $858,373,002  9,37,08,843  \n",
       "25  Sony Pictures   $204,417,855          $204,417,848  2,23,16,359  \n",
       "26    Walt Disney   $224,226,704          $224,226,704  2,44,78,897  "
      ]
     },
     "execution_count": 49,
     "metadata": {},
     "output_type": "execute_result"
    }
   ],
   "source": [
    "highest_grossers.tail()"
   ]
  },
  {
   "cell_type": "code",
   "execution_count": 50,
   "metadata": {},
   "outputs": [
    {
     "name": "stderr",
     "output_type": "stream",
     "text": [
      "C:\\Users\\Casper\\AppData\\Local\\Temp/ipykernel_2888/3202650761.py:5: FutureWarning:\n",
      "\n",
      "The default value of regex will change from True to False in a future version. In addition, single character regular expressions will *not* be treated as literal strings when regex=True.\n",
      "\n"
     ]
    }
   ],
   "source": [
    "highest_grossers[\"TICKETS SOLD\"] = highest_grossers[\"TICKETS SOLD\"].str.replace(\",\",\"\")\n",
    "\n",
    "for i in [\"TOTAL FOR YEAR\",\"TOTAL IN 2019 DOLLARS\"]:\n",
    "    highest_grossers[i] = highest_grossers[i].str.replace(\",\",\"\")\n",
    "    highest_grossers[i] = highest_grossers[i].str.replace(\"$\",\"\")"
   ]
  },
  {
   "cell_type": "code",
   "execution_count": 51,
   "metadata": {},
   "outputs": [],
   "source": [
    "for col in [\"TICKETS SOLD\", \"TOTAL FOR YEAR\", \"TOTAL IN 2019 DOLLARS\"]:\n",
    "    highest_grossers[col] = pd.to_numeric(highest_grossers[col])"
   ]
  },
  {
   "cell_type": "code",
   "execution_count": 52,
   "metadata": {},
   "outputs": [
    {
     "data": {
      "text/plain": [
       "YEAR                      int64\n",
       "MOVIE                    object\n",
       "GENRE                    object\n",
       "MPAA RATING              object\n",
       "DISTRIBUTOR              object\n",
       "TOTAL FOR YEAR            int64\n",
       "TOTAL IN 2019 DOLLARS     int64\n",
       "TICKETS SOLD              int64\n",
       "dtype: object"
      ]
     },
     "execution_count": 52,
     "metadata": {},
     "output_type": "execute_result"
    }
   ],
   "source": [
    "highest_grossers.dtypes"
   ]
  },
  {
   "cell_type": "code",
   "execution_count": 53,
   "metadata": {},
   "outputs": [],
   "source": [
    "''' Tuning for the visualization\n",
    "    NOT: Don't need to do hover_name anymore!\n",
    "    INSTEAD: add custom_data=[] to the plots and update_traces(hover_template=\"<br>\".join([\"<b>%{customdata[0]}<b>\"]))\n",
    "''' \n",
    "\n",
    "highest_grossers[\"tickets_sold\"] = highest_grossers[\"TICKETS SOLD\"]*3"
   ]
  },
  {
   "cell_type": "code",
   "execution_count": 270,
   "metadata": {},
   "outputs": [],
   "source": [
    "highest_grossers[\"TS\"] = highest_grossers[\"TICKETS SOLD\"].apply(foo)\n",
    "highest_grossers[\"TBO\"] = highest_grossers[\"TOTAL FOR YEAR\"].apply(foo_2)"
   ]
  },
  {
   "cell_type": "code",
   "execution_count": 100,
   "metadata": {},
   "outputs": [],
   "source": [
    "highest_grossers[\"info\"] = highest_grossers[\"TS\"] + \" | \" + highest_grossers[\"TBO\"]"
   ]
  },
  {
   "cell_type": "code",
   "execution_count": 272,
   "metadata": {},
   "outputs": [
    {
     "data": {
      "application/vnd.plotly.v1+json": {
       "config": {
        "plotlyServerURL": "https://plot.ly"
       },
       "data": [
        {
         "customdata": [
          [
           "Batman Forever"
          ],
          [
           "Independence Day"
          ],
          [
           "Men in Black"
          ],
          [
           "Titanic"
          ],
          [
           "Star Wars Ep. I: The Phantom Menace"
          ],
          [
           "How the Grinch Stole Christmas"
          ],
          [
           "Harry Potter and the Sorcerer’s Stone"
          ],
          [
           "Spider-Man"
          ],
          [
           "Finding Nemo"
          ],
          [
           "Shrek 2"
          ],
          [
           "Star Wars Ep. III: Revenge of the Sith"
          ],
          [
           "Pirates of the Caribbean: Dead Man’s Chest"
          ],
          [
           "Spider-Man 3"
          ],
          [
           "The Dark Knight"
          ],
          [
           "Transformers: Revenge of the Fallen"
          ],
          [
           "Toy Story 3"
          ],
          [
           "Harry Potter and the Deathly Hallows: Part II"
          ],
          [
           "The Avengers"
          ],
          [
           "Iron Man 3"
          ],
          [
           "Guardians of the Galaxy"
          ],
          [
           "Star Wars Ep. VII: The Force Awakens"
          ],
          [
           "Finding Dory"
          ],
          [
           "Star Wars Ep. VIII: The Last Jedi"
          ],
          [
           "Black Panther"
          ],
          [
           "Avengers: Endgame"
          ],
          [
           "Bad Boys For Life"
          ],
          [
           "Shang-Chi and the Legend of the Ten Rings"
          ]
         ],
         "hovertemplate": "<b>%{customdata[0]}<b>",
         "legendgroup": "",
         "line": {
          "color": "black",
          "dash": "solid"
         },
         "marker": {
          "symbol": "circle"
         },
         "mode": "lines",
         "name": "",
         "orientation": "v",
         "showlegend": false,
         "type": "scatter",
         "x": [
          1995,
          1996,
          1997,
          1998,
          1999,
          2000,
          2001,
          2002,
          2003,
          2004,
          2005,
          2006,
          2007,
          2008,
          2009,
          2010,
          2011,
          2012,
          2013,
          2014,
          2015,
          2016,
          2017,
          2018,
          2019,
          2020,
          2021
         ],
         "xaxis": "x",
         "y": [
          184031112,
          306169255,
          250650052,
          443319081,
          430443350,
          253367455,
          300404434,
          403706375,
          339714367,
          441226247,
          380270577,
          423315812,
          336530303,
          531001578,
          402111870,
          415004880,
          381011219,
          623357910,
          408992272,
          333055258,
          742208942,
          486295561,
          517218368,
          700059566,
          858373000,
          204417855,
          224226704
         ],
         "yaxis": "y"
        },
        {
         "customdata": [
          [
           "Warner Bros.",
           "Total Box Office: 184 Million"
          ],
          [
           "Warner Bros.",
           "Total Box Office: 300 Million"
          ],
          [
           "Warner Bros.",
           "Total Box Office: 531 Million"
          ],
          [
           "Warner Bros.",
           "Total Box Office: 381 Million"
          ]
         ],
         "hovertemplate": "<b>%{customdata[0]}<b><br><b>%{customdata[1]}<b>",
         "legendgroup": "Warner Bros.",
         "marker": {
          "color": "#636efa",
          "opacity": 0.8,
          "size": [
           184031112,
           300404434,
           531001578,
           381011219
          ],
          "sizemode": "area",
          "sizeref": 2145932.5,
          "symbol": "circle"
         },
         "mode": "markers",
         "name": "Warner Bros.",
         "orientation": "v",
         "showlegend": true,
         "type": "scatter",
         "x": [
          1995,
          2001,
          2008,
          2011
         ],
         "xaxis": "x",
         "y": [
          184031112,
          300404434,
          531001578,
          381011219
         ],
         "yaxis": "y"
        },
        {
         "customdata": [
          [
           "20th Century Fox",
           "Total Box Office: 306 Million"
          ],
          [
           "20th Century Fox",
           "Total Box Office: 430 Million"
          ],
          [
           "20th Century Fox",
           "Total Box Office: 380 Million"
          ]
         ],
         "hovertemplate": "<b>%{customdata[0]}<b><br><b>%{customdata[1]}<b>",
         "legendgroup": "20th Century Fox",
         "marker": {
          "color": "#EF553B",
          "opacity": 0.8,
          "size": [
           306169255,
           430443350,
           380270577
          ],
          "sizemode": "area",
          "sizeref": 2145932.5,
          "symbol": "circle"
         },
         "mode": "markers",
         "name": "20th Century Fox",
         "orientation": "v",
         "showlegend": true,
         "type": "scatter",
         "x": [
          1996,
          1999,
          2005
         ],
         "xaxis": "x",
         "y": [
          306169255,
          430443350,
          380270577
         ],
         "yaxis": "y"
        },
        {
         "customdata": [
          [
           "Sony Pictures",
           "Total Box Office: 250 Million"
          ],
          [
           "Sony Pictures",
           "Total Box Office: 403 Million"
          ],
          [
           "Sony Pictures",
           "Total Box Office: 336 Million"
          ],
          [
           "Sony Pictures",
           "Total Box Office: 204 Million"
          ]
         ],
         "hovertemplate": "<b>%{customdata[0]}<b><br><b>%{customdata[1]}<b>",
         "legendgroup": "Sony Pictures",
         "marker": {
          "color": "#00cc96",
          "opacity": 0.8,
          "size": [
           250650052,
           403706375,
           336530303,
           204417855
          ],
          "sizemode": "area",
          "sizeref": 2145932.5,
          "symbol": "circle"
         },
         "mode": "markers",
         "name": "Sony Pictures",
         "orientation": "v",
         "showlegend": true,
         "type": "scatter",
         "x": [
          1997,
          2002,
          2007,
          2020
         ],
         "xaxis": "x",
         "y": [
          250650052,
          403706375,
          336530303,
          204417855
         ],
         "yaxis": "y"
        },
        {
         "customdata": [
          [
           "Paramount Pictures",
           "Total Box Office: 443 Million"
          ],
          [
           "Paramount Pictures",
           "Total Box Office: 402 Million"
          ]
         ],
         "hovertemplate": "<b>%{customdata[0]}<b><br><b>%{customdata[1]}<b>",
         "legendgroup": "Paramount Pictures",
         "marker": {
          "color": "#ab63fa",
          "opacity": 0.8,
          "size": [
           443319081,
           402111870
          ],
          "sizemode": "area",
          "sizeref": 2145932.5,
          "symbol": "circle"
         },
         "mode": "markers",
         "name": "Paramount Pictures",
         "orientation": "v",
         "showlegend": true,
         "type": "scatter",
         "x": [
          1998,
          2009
         ],
         "xaxis": "x",
         "y": [
          443319081,
          402111870
         ],
         "yaxis": "y"
        },
        {
         "customdata": [
          [
           "Universal",
           "Total Box Office: 253 Million"
          ]
         ],
         "hovertemplate": "<b>%{customdata[0]}<b><br><b>%{customdata[1]}<b>",
         "legendgroup": "Universal",
         "marker": {
          "color": "#FFA15A",
          "opacity": 0.8,
          "size": [
           253367455
          ],
          "sizemode": "area",
          "sizeref": 2145932.5,
          "symbol": "circle"
         },
         "mode": "markers",
         "name": "Universal",
         "orientation": "v",
         "showlegend": true,
         "type": "scatter",
         "x": [
          2000
         ],
         "xaxis": "x",
         "y": [
          253367455
         ],
         "yaxis": "y"
        },
        {
         "customdata": [
          [
           "Walt Disney",
           "Total Box Office: 339 Million"
          ],
          [
           "Walt Disney",
           "Total Box Office: 423 Million"
          ],
          [
           "Walt Disney",
           "Total Box Office: 415 Million"
          ],
          [
           "Walt Disney",
           "Total Box Office: 623 Million"
          ],
          [
           "Walt Disney",
           "Total Box Office: 408 Million"
          ],
          [
           "Walt Disney",
           "Total Box Office: 333 Million"
          ],
          [
           "Walt Disney",
           "Total Box Office: 742 Million"
          ],
          [
           "Walt Disney",
           "Total Box Office: 486 Million"
          ],
          [
           "Walt Disney",
           "Total Box Office: 517 Million"
          ],
          [
           "Walt Disney",
           "Total Box Office: 700 Million"
          ],
          [
           "Walt Disney",
           "Total Box Office: 858 Million"
          ],
          [
           "Walt Disney",
           "Total Box Office: 224 Million"
          ]
         ],
         "hovertemplate": "<b>%{customdata[0]}<b><br><b>%{customdata[1]}<b>",
         "legendgroup": "Walt Disney",
         "marker": {
          "color": "#19d3f3",
          "opacity": 0.8,
          "size": [
           339714367,
           423315812,
           415004880,
           623357910,
           408992272,
           333055258,
           742208942,
           486295561,
           517218368,
           700059566,
           858373000,
           224226704
          ],
          "sizemode": "area",
          "sizeref": 2145932.5,
          "symbol": "circle"
         },
         "mode": "markers",
         "name": "Walt Disney",
         "orientation": "v",
         "showlegend": true,
         "type": "scatter",
         "x": [
          2003,
          2006,
          2010,
          2012,
          2013,
          2014,
          2015,
          2016,
          2017,
          2018,
          2019,
          2021
         ],
         "xaxis": "x",
         "y": [
          339714367,
          423315812,
          415004880,
          623357910,
          408992272,
          333055258,
          742208942,
          486295561,
          517218368,
          700059566,
          858373000,
          224226704
         ],
         "yaxis": "y"
        },
        {
         "customdata": [
          [
           "Dreamworks SKG",
           "Total Box Office: 441 Million"
          ]
         ],
         "hovertemplate": "<b>%{customdata[0]}<b><br><b>%{customdata[1]}<b>",
         "legendgroup": "Dreamworks SKG",
         "marker": {
          "color": "#FF6692",
          "opacity": 0.8,
          "size": [
           441226247
          ],
          "sizemode": "area",
          "sizeref": 2145932.5,
          "symbol": "circle"
         },
         "mode": "markers",
         "name": "Dreamworks SKG",
         "orientation": "v",
         "showlegend": true,
         "type": "scatter",
         "x": [
          2004
         ],
         "xaxis": "x",
         "y": [
          441226247
         ],
         "yaxis": "y"
        },
        {
         "alignmentgroup": "True",
         "customdata": [
          [
           "Tickets Sold: 42 Million"
          ],
          [
           "Tickets Sold: 69 Million"
          ],
          [
           "Tickets Sold: 54 Million"
          ],
          [
           "Tickets Sold: 94 Million"
          ],
          [
           "Tickets Sold: 84 Million"
          ],
          [
           "Tickets Sold: 47 Million"
          ],
          [
           "Tickets Sold: 53 Million"
          ],
          [
           "Tickets Sold: 69 Million"
          ],
          [
           "Tickets Sold: 56 Million"
          ],
          [
           "Tickets Sold: 71 Million"
          ],
          [
           "Tickets Sold: 59 Million"
          ],
          [
           "Tickets Sold: 64 Million"
          ],
          [
           "Tickets Sold: 48 Million"
          ],
          [
           "Tickets Sold: 73 Million"
          ],
          [
           "Tickets Sold: 53 Million"
          ],
          [
           "Tickets Sold: 52 Million"
          ],
          [
           "Tickets Sold: 48 Million"
          ],
          [
           "Tickets Sold: 78 Million"
          ],
          [
           "Tickets Sold: 50 Million"
          ],
          [
           "Tickets Sold: 40 Million"
          ],
          [
           "Tickets Sold: 88 Million"
          ],
          [
           "Tickets Sold: 56 Million"
          ],
          [
           "Tickets Sold: 57 Million"
          ],
          [
           "Tickets Sold: 76 Million"
          ],
          [
           "Tickets Sold: 93 Million"
          ],
          [
           "Tickets Sold: 22 Million"
          ],
          [
           "Tickets Sold: 24 Million"
          ]
         ],
         "hovertemplate": "<b>%{customdata[0]}<b>",
         "legendgroup": "",
         "marker": {
          "color": "grey",
          "pattern": {
           "shape": ""
          }
         },
         "name": "",
         "offsetgroup": "",
         "orientation": "v",
         "showlegend": false,
         "textposition": "auto",
         "type": "bar",
         "x": [
          1995,
          1996,
          1997,
          1998,
          1999,
          2000,
          2001,
          2002,
          2003,
          2004,
          2005,
          2006,
          2007,
          2008,
          2009,
          2010,
          2011,
          2012,
          2013,
          2014,
          2015,
          2016,
          2017,
          2018,
          2019,
          2020,
          2021
         ],
         "xaxis": "x",
         "y": [
          126918006,
          207807186,
          163823562,
          283572972,
          254198826,
          141020844,
          159224964,
          208454238,
          169012122,
          213152775,
          177973746,
          193885104,
          146742864,
          221866956,
          160844748,
          157796532,
          144140436,
          234933885,
          150919656,
          122296911,
          264131295,
          168657420,
          172982730,
          230535531,
          281126529,
          66949077,
          73436691
         ],
         "yaxis": "y"
        }
       ],
       "layout": {
        "font": {
         "family": "Rockwell"
        },
        "hovermode": "x unified",
        "legend": {
         "orientation": "h",
         "title": {},
         "x": 0.5,
         "xanchor": "center",
         "y": 1,
         "yanchor": "bottom"
        },
        "template": {
         "data": {
          "bar": [
           {
            "error_x": {
             "color": "rgb(36,36,36)"
            },
            "error_y": {
             "color": "rgb(36,36,36)"
            },
            "marker": {
             "line": {
              "color": "white",
              "width": 0.5
             },
             "pattern": {
              "fillmode": "overlay",
              "size": 10,
              "solidity": 0.2
             }
            },
            "type": "bar"
           }
          ],
          "barpolar": [
           {
            "marker": {
             "line": {
              "color": "white",
              "width": 0.5
             },
             "pattern": {
              "fillmode": "overlay",
              "size": 10,
              "solidity": 0.2
             }
            },
            "type": "barpolar"
           }
          ],
          "carpet": [
           {
            "aaxis": {
             "endlinecolor": "rgb(36,36,36)",
             "gridcolor": "white",
             "linecolor": "white",
             "minorgridcolor": "white",
             "startlinecolor": "rgb(36,36,36)"
            },
            "baxis": {
             "endlinecolor": "rgb(36,36,36)",
             "gridcolor": "white",
             "linecolor": "white",
             "minorgridcolor": "white",
             "startlinecolor": "rgb(36,36,36)"
            },
            "type": "carpet"
           }
          ],
          "choropleth": [
           {
            "colorbar": {
             "outlinewidth": 1,
             "tickcolor": "rgb(36,36,36)",
             "ticks": "outside"
            },
            "type": "choropleth"
           }
          ],
          "contour": [
           {
            "colorbar": {
             "outlinewidth": 1,
             "tickcolor": "rgb(36,36,36)",
             "ticks": "outside"
            },
            "colorscale": [
             [
              0,
              "#440154"
             ],
             [
              0.1111111111111111,
              "#482878"
             ],
             [
              0.2222222222222222,
              "#3e4989"
             ],
             [
              0.3333333333333333,
              "#31688e"
             ],
             [
              0.4444444444444444,
              "#26828e"
             ],
             [
              0.5555555555555556,
              "#1f9e89"
             ],
             [
              0.6666666666666666,
              "#35b779"
             ],
             [
              0.7777777777777778,
              "#6ece58"
             ],
             [
              0.8888888888888888,
              "#b5de2b"
             ],
             [
              1,
              "#fde725"
             ]
            ],
            "type": "contour"
           }
          ],
          "contourcarpet": [
           {
            "colorbar": {
             "outlinewidth": 1,
             "tickcolor": "rgb(36,36,36)",
             "ticks": "outside"
            },
            "type": "contourcarpet"
           }
          ],
          "heatmap": [
           {
            "colorbar": {
             "outlinewidth": 1,
             "tickcolor": "rgb(36,36,36)",
             "ticks": "outside"
            },
            "colorscale": [
             [
              0,
              "#440154"
             ],
             [
              0.1111111111111111,
              "#482878"
             ],
             [
              0.2222222222222222,
              "#3e4989"
             ],
             [
              0.3333333333333333,
              "#31688e"
             ],
             [
              0.4444444444444444,
              "#26828e"
             ],
             [
              0.5555555555555556,
              "#1f9e89"
             ],
             [
              0.6666666666666666,
              "#35b779"
             ],
             [
              0.7777777777777778,
              "#6ece58"
             ],
             [
              0.8888888888888888,
              "#b5de2b"
             ],
             [
              1,
              "#fde725"
             ]
            ],
            "type": "heatmap"
           }
          ],
          "heatmapgl": [
           {
            "colorbar": {
             "outlinewidth": 1,
             "tickcolor": "rgb(36,36,36)",
             "ticks": "outside"
            },
            "colorscale": [
             [
              0,
              "#440154"
             ],
             [
              0.1111111111111111,
              "#482878"
             ],
             [
              0.2222222222222222,
              "#3e4989"
             ],
             [
              0.3333333333333333,
              "#31688e"
             ],
             [
              0.4444444444444444,
              "#26828e"
             ],
             [
              0.5555555555555556,
              "#1f9e89"
             ],
             [
              0.6666666666666666,
              "#35b779"
             ],
             [
              0.7777777777777778,
              "#6ece58"
             ],
             [
              0.8888888888888888,
              "#b5de2b"
             ],
             [
              1,
              "#fde725"
             ]
            ],
            "type": "heatmapgl"
           }
          ],
          "histogram": [
           {
            "marker": {
             "line": {
              "color": "white",
              "width": 0.6
             }
            },
            "type": "histogram"
           }
          ],
          "histogram2d": [
           {
            "colorbar": {
             "outlinewidth": 1,
             "tickcolor": "rgb(36,36,36)",
             "ticks": "outside"
            },
            "colorscale": [
             [
              0,
              "#440154"
             ],
             [
              0.1111111111111111,
              "#482878"
             ],
             [
              0.2222222222222222,
              "#3e4989"
             ],
             [
              0.3333333333333333,
              "#31688e"
             ],
             [
              0.4444444444444444,
              "#26828e"
             ],
             [
              0.5555555555555556,
              "#1f9e89"
             ],
             [
              0.6666666666666666,
              "#35b779"
             ],
             [
              0.7777777777777778,
              "#6ece58"
             ],
             [
              0.8888888888888888,
              "#b5de2b"
             ],
             [
              1,
              "#fde725"
             ]
            ],
            "type": "histogram2d"
           }
          ],
          "histogram2dcontour": [
           {
            "colorbar": {
             "outlinewidth": 1,
             "tickcolor": "rgb(36,36,36)",
             "ticks": "outside"
            },
            "colorscale": [
             [
              0,
              "#440154"
             ],
             [
              0.1111111111111111,
              "#482878"
             ],
             [
              0.2222222222222222,
              "#3e4989"
             ],
             [
              0.3333333333333333,
              "#31688e"
             ],
             [
              0.4444444444444444,
              "#26828e"
             ],
             [
              0.5555555555555556,
              "#1f9e89"
             ],
             [
              0.6666666666666666,
              "#35b779"
             ],
             [
              0.7777777777777778,
              "#6ece58"
             ],
             [
              0.8888888888888888,
              "#b5de2b"
             ],
             [
              1,
              "#fde725"
             ]
            ],
            "type": "histogram2dcontour"
           }
          ],
          "mesh3d": [
           {
            "colorbar": {
             "outlinewidth": 1,
             "tickcolor": "rgb(36,36,36)",
             "ticks": "outside"
            },
            "type": "mesh3d"
           }
          ],
          "parcoords": [
           {
            "line": {
             "colorbar": {
              "outlinewidth": 1,
              "tickcolor": "rgb(36,36,36)",
              "ticks": "outside"
             }
            },
            "type": "parcoords"
           }
          ],
          "pie": [
           {
            "automargin": true,
            "type": "pie"
           }
          ],
          "scatter": [
           {
            "marker": {
             "colorbar": {
              "outlinewidth": 1,
              "tickcolor": "rgb(36,36,36)",
              "ticks": "outside"
             }
            },
            "type": "scatter"
           }
          ],
          "scatter3d": [
           {
            "line": {
             "colorbar": {
              "outlinewidth": 1,
              "tickcolor": "rgb(36,36,36)",
              "ticks": "outside"
             }
            },
            "marker": {
             "colorbar": {
              "outlinewidth": 1,
              "tickcolor": "rgb(36,36,36)",
              "ticks": "outside"
             }
            },
            "type": "scatter3d"
           }
          ],
          "scattercarpet": [
           {
            "marker": {
             "colorbar": {
              "outlinewidth": 1,
              "tickcolor": "rgb(36,36,36)",
              "ticks": "outside"
             }
            },
            "type": "scattercarpet"
           }
          ],
          "scattergeo": [
           {
            "marker": {
             "colorbar": {
              "outlinewidth": 1,
              "tickcolor": "rgb(36,36,36)",
              "ticks": "outside"
             }
            },
            "type": "scattergeo"
           }
          ],
          "scattergl": [
           {
            "marker": {
             "colorbar": {
              "outlinewidth": 1,
              "tickcolor": "rgb(36,36,36)",
              "ticks": "outside"
             }
            },
            "type": "scattergl"
           }
          ],
          "scattermapbox": [
           {
            "marker": {
             "colorbar": {
              "outlinewidth": 1,
              "tickcolor": "rgb(36,36,36)",
              "ticks": "outside"
             }
            },
            "type": "scattermapbox"
           }
          ],
          "scatterpolar": [
           {
            "marker": {
             "colorbar": {
              "outlinewidth": 1,
              "tickcolor": "rgb(36,36,36)",
              "ticks": "outside"
             }
            },
            "type": "scatterpolar"
           }
          ],
          "scatterpolargl": [
           {
            "marker": {
             "colorbar": {
              "outlinewidth": 1,
              "tickcolor": "rgb(36,36,36)",
              "ticks": "outside"
             }
            },
            "type": "scatterpolargl"
           }
          ],
          "scatterternary": [
           {
            "marker": {
             "colorbar": {
              "outlinewidth": 1,
              "tickcolor": "rgb(36,36,36)",
              "ticks": "outside"
             }
            },
            "type": "scatterternary"
           }
          ],
          "surface": [
           {
            "colorbar": {
             "outlinewidth": 1,
             "tickcolor": "rgb(36,36,36)",
             "ticks": "outside"
            },
            "colorscale": [
             [
              0,
              "#440154"
             ],
             [
              0.1111111111111111,
              "#482878"
             ],
             [
              0.2222222222222222,
              "#3e4989"
             ],
             [
              0.3333333333333333,
              "#31688e"
             ],
             [
              0.4444444444444444,
              "#26828e"
             ],
             [
              0.5555555555555556,
              "#1f9e89"
             ],
             [
              0.6666666666666666,
              "#35b779"
             ],
             [
              0.7777777777777778,
              "#6ece58"
             ],
             [
              0.8888888888888888,
              "#b5de2b"
             ],
             [
              1,
              "#fde725"
             ]
            ],
            "type": "surface"
           }
          ],
          "table": [
           {
            "cells": {
             "fill": {
              "color": "rgb(237,237,237)"
             },
             "line": {
              "color": "white"
             }
            },
            "header": {
             "fill": {
              "color": "rgb(217,217,217)"
             },
             "line": {
              "color": "white"
             }
            },
            "type": "table"
           }
          ]
         },
         "layout": {
          "annotationdefaults": {
           "arrowhead": 0,
           "arrowwidth": 1
          },
          "autotypenumbers": "strict",
          "coloraxis": {
           "colorbar": {
            "outlinewidth": 1,
            "tickcolor": "rgb(36,36,36)",
            "ticks": "outside"
           }
          },
          "colorscale": {
           "diverging": [
            [
             0,
             "rgb(103,0,31)"
            ],
            [
             0.1,
             "rgb(178,24,43)"
            ],
            [
             0.2,
             "rgb(214,96,77)"
            ],
            [
             0.3,
             "rgb(244,165,130)"
            ],
            [
             0.4,
             "rgb(253,219,199)"
            ],
            [
             0.5,
             "rgb(247,247,247)"
            ],
            [
             0.6,
             "rgb(209,229,240)"
            ],
            [
             0.7,
             "rgb(146,197,222)"
            ],
            [
             0.8,
             "rgb(67,147,195)"
            ],
            [
             0.9,
             "rgb(33,102,172)"
            ],
            [
             1,
             "rgb(5,48,97)"
            ]
           ],
           "sequential": [
            [
             0,
             "#440154"
            ],
            [
             0.1111111111111111,
             "#482878"
            ],
            [
             0.2222222222222222,
             "#3e4989"
            ],
            [
             0.3333333333333333,
             "#31688e"
            ],
            [
             0.4444444444444444,
             "#26828e"
            ],
            [
             0.5555555555555556,
             "#1f9e89"
            ],
            [
             0.6666666666666666,
             "#35b779"
            ],
            [
             0.7777777777777778,
             "#6ece58"
            ],
            [
             0.8888888888888888,
             "#b5de2b"
            ],
            [
             1,
             "#fde725"
            ]
           ],
           "sequentialminus": [
            [
             0,
             "#440154"
            ],
            [
             0.1111111111111111,
             "#482878"
            ],
            [
             0.2222222222222222,
             "#3e4989"
            ],
            [
             0.3333333333333333,
             "#31688e"
            ],
            [
             0.4444444444444444,
             "#26828e"
            ],
            [
             0.5555555555555556,
             "#1f9e89"
            ],
            [
             0.6666666666666666,
             "#35b779"
            ],
            [
             0.7777777777777778,
             "#6ece58"
            ],
            [
             0.8888888888888888,
             "#b5de2b"
            ],
            [
             1,
             "#fde725"
            ]
           ]
          },
          "colorway": [
           "#1F77B4",
           "#FF7F0E",
           "#2CA02C",
           "#D62728",
           "#9467BD",
           "#8C564B",
           "#E377C2",
           "#7F7F7F",
           "#BCBD22",
           "#17BECF"
          ],
          "font": {
           "color": "rgb(36,36,36)"
          },
          "geo": {
           "bgcolor": "white",
           "lakecolor": "white",
           "landcolor": "white",
           "showlakes": true,
           "showland": true,
           "subunitcolor": "white"
          },
          "hoverlabel": {
           "align": "left"
          },
          "hovermode": "closest",
          "mapbox": {
           "style": "light"
          },
          "paper_bgcolor": "white",
          "plot_bgcolor": "white",
          "polar": {
           "angularaxis": {
            "gridcolor": "rgb(232,232,232)",
            "linecolor": "rgb(36,36,36)",
            "showgrid": false,
            "showline": true,
            "ticks": "outside"
           },
           "bgcolor": "white",
           "radialaxis": {
            "gridcolor": "rgb(232,232,232)",
            "linecolor": "rgb(36,36,36)",
            "showgrid": false,
            "showline": true,
            "ticks": "outside"
           }
          },
          "scene": {
           "xaxis": {
            "backgroundcolor": "white",
            "gridcolor": "rgb(232,232,232)",
            "gridwidth": 2,
            "linecolor": "rgb(36,36,36)",
            "showbackground": true,
            "showgrid": false,
            "showline": true,
            "ticks": "outside",
            "zeroline": false,
            "zerolinecolor": "rgb(36,36,36)"
           },
           "yaxis": {
            "backgroundcolor": "white",
            "gridcolor": "rgb(232,232,232)",
            "gridwidth": 2,
            "linecolor": "rgb(36,36,36)",
            "showbackground": true,
            "showgrid": false,
            "showline": true,
            "ticks": "outside",
            "zeroline": false,
            "zerolinecolor": "rgb(36,36,36)"
           },
           "zaxis": {
            "backgroundcolor": "white",
            "gridcolor": "rgb(232,232,232)",
            "gridwidth": 2,
            "linecolor": "rgb(36,36,36)",
            "showbackground": true,
            "showgrid": false,
            "showline": true,
            "ticks": "outside",
            "zeroline": false,
            "zerolinecolor": "rgb(36,36,36)"
           }
          },
          "shapedefaults": {
           "fillcolor": "black",
           "line": {
            "width": 0
           },
           "opacity": 0.3
          },
          "ternary": {
           "aaxis": {
            "gridcolor": "rgb(232,232,232)",
            "linecolor": "rgb(36,36,36)",
            "showgrid": false,
            "showline": true,
            "ticks": "outside"
           },
           "baxis": {
            "gridcolor": "rgb(232,232,232)",
            "linecolor": "rgb(36,36,36)",
            "showgrid": false,
            "showline": true,
            "ticks": "outside"
           },
           "bgcolor": "white",
           "caxis": {
            "gridcolor": "rgb(232,232,232)",
            "linecolor": "rgb(36,36,36)",
            "showgrid": false,
            "showline": true,
            "ticks": "outside"
           }
          },
          "title": {
           "x": 0.05
          },
          "xaxis": {
           "automargin": true,
           "gridcolor": "rgb(232,232,232)",
           "linecolor": "rgb(36,36,36)",
           "showgrid": false,
           "showline": true,
           "ticks": "outside",
           "title": {
            "standoff": 15
           },
           "zeroline": false,
           "zerolinecolor": "rgb(36,36,36)"
          },
          "yaxis": {
           "automargin": true,
           "gridcolor": "rgb(232,232,232)",
           "linecolor": "rgb(36,36,36)",
           "showgrid": false,
           "showline": true,
           "ticks": "outside",
           "title": {
            "standoff": 15
           },
           "zeroline": false,
           "zerolinecolor": "rgb(36,36,36)"
          }
         }
        },
        "title": {
         "text": "Highest Grossing Movies Each Year",
         "x": 0.5
        },
        "yaxis": {
         "showticklabels": false,
         "visible": false
        }
       }
      }
     },
     "metadata": {},
     "output_type": "display_data"
    }
   ],
   "source": [
    "fig1 = px.line(highest_grossers,\n",
    "            x=\"YEAR\",\n",
    "            y=\"TOTAL FOR YEAR\",\n",
    "            # hover_name=\"MOVIE\",\n",
    "            custom_data=[\"MOVIE\"],\n",
    "            color_discrete_sequence=[\"black\"])\n",
    "\n",
    "fig1.update_traces(hovertemplate=\"<br>\".join([\"<b>%{customdata[0]}<b>\"]))\n",
    "\n",
    "fig2 = px.scatter(highest_grossers,\n",
    "            x=\"YEAR\",\n",
    "            y=\"TOTAL FOR YEAR\",\n",
    "            color=\"DISTRIBUTOR\",\n",
    "            # hover_name=\"DISTRIBUTOR\",\n",
    "            custom_data=[\"DISTRIBUTOR\",\"TBO\"],\n",
    "            size=\"TOTAL FOR YEAR\",\n",
    "            opacity=0.8)\n",
    "\n",
    "fig2.update_traces(hovertemplate=\"<br>\".join([\"<b>%{customdata[0]}<b>\",\"<b>%{customdata[1]}<b>\"]))\n",
    "\n",
    "fig3 = px.bar(highest_grossers,\n",
    "            x=\"YEAR\",\n",
    "            y=\"tickets_sold\",\n",
    "            # hover_name=\"info\",\n",
    "            custom_data=[\"TS\"],\n",
    "            color_discrete_sequence=[\"grey\"])\n",
    "\n",
    "fig3.update_traces(hovertemplate=\"<br>\".join([\"<b>%{customdata[0]}<b>\"]))\n",
    "\n",
    "fig = go.Figure(data=fig1.data + fig2.data + fig3.data)\n",
    "\n",
    "fig.update_layout(hovermode=\"x unified\", template=\"simple_white\", title=\"Highest Grossing Movies Each Year\")\n",
    "fig.update_layout(title_x=0.5,\n",
    "    font_family=\"Rockwell\",\n",
    "    legend=dict(\n",
    "        title=None, orientation=\"h\", y=1, yanchor=\"bottom\", x=0.5, xanchor=\"center\"\n",
    "    )\n",
    ")\n",
    "\n",
    "fig.update_yaxes(visible=False, showticklabels=False)\n",
    "\n",
    "fig.update_layout(template=\"simple_white\")\n",
    "\n",
    "fig.show()"
   ]
  },
  {
   "cell_type": "markdown",
   "metadata": {},
   "source": [
    "### Popular Creative Types"
   ]
  },
  {
   "cell_type": "code",
   "execution_count": 103,
   "metadata": {},
   "outputs": [
    {
     "data": {
      "text/html": [
       "<div>\n",
       "<style scoped>\n",
       "    .dataframe tbody tr th:only-of-type {\n",
       "        vertical-align: middle;\n",
       "    }\n",
       "\n",
       "    .dataframe tbody tr th {\n",
       "        vertical-align: top;\n",
       "    }\n",
       "\n",
       "    .dataframe thead th {\n",
       "        text-align: right;\n",
       "    }\n",
       "</style>\n",
       "<table border=\"1\" class=\"dataframe\">\n",
       "  <thead>\n",
       "    <tr style=\"text-align: right;\">\n",
       "      <th></th>\n",
       "      <th>RANK</th>\n",
       "      <th>CREATIVE TYPES</th>\n",
       "      <th>MOVIES</th>\n",
       "      <th>TOTAL GROSS</th>\n",
       "      <th>AVERAGE GROSS</th>\n",
       "      <th>MARKET SHARE</th>\n",
       "    </tr>\n",
       "  </thead>\n",
       "  <tbody>\n",
       "    <tr>\n",
       "      <th>0</th>\n",
       "      <td>1.0</td>\n",
       "      <td>Contemporary Fiction</td>\n",
       "      <td>7,442</td>\n",
       "      <td>$96,203,727,036</td>\n",
       "      <td>$12,927,133</td>\n",
       "      <td>40.46%</td>\n",
       "    </tr>\n",
       "    <tr>\n",
       "      <th>1</th>\n",
       "      <td>2.0</td>\n",
       "      <td>Kids Fiction</td>\n",
       "      <td>564</td>\n",
       "      <td>$32,035,539,746</td>\n",
       "      <td>$56,800,602</td>\n",
       "      <td>13.47%</td>\n",
       "    </tr>\n",
       "    <tr>\n",
       "      <th>2</th>\n",
       "      <td>3.0</td>\n",
       "      <td>Science Fiction</td>\n",
       "      <td>724</td>\n",
       "      <td>$29,922,660,857</td>\n",
       "      <td>$41,329,642</td>\n",
       "      <td>12.59%</td>\n",
       "    </tr>\n",
       "    <tr>\n",
       "      <th>3</th>\n",
       "      <td>4.0</td>\n",
       "      <td>Fantasy</td>\n",
       "      <td>759</td>\n",
       "      <td>$21,724,062,575</td>\n",
       "      <td>$28,621,953</td>\n",
       "      <td>9.14%</td>\n",
       "    </tr>\n",
       "    <tr>\n",
       "      <th>4</th>\n",
       "      <td>5.0</td>\n",
       "      <td>Super Hero</td>\n",
       "      <td>129</td>\n",
       "      <td>$20,273,157,911</td>\n",
       "      <td>$157,156,263</td>\n",
       "      <td>8.53%</td>\n",
       "    </tr>\n",
       "  </tbody>\n",
       "</table>\n",
       "</div>"
      ],
      "text/plain": [
       "   RANK        CREATIVE TYPES MOVIES      TOTAL GROSS AVERAGE GROSS  \\\n",
       "0   1.0  Contemporary Fiction  7,442  $96,203,727,036   $12,927,133   \n",
       "1   2.0          Kids Fiction    564  $32,035,539,746   $56,800,602   \n",
       "2   3.0       Science Fiction    724  $29,922,660,857   $41,329,642   \n",
       "3   4.0               Fantasy    759  $21,724,062,575   $28,621,953   \n",
       "4   5.0            Super Hero    129  $20,273,157,911  $157,156,263   \n",
       "\n",
       "  MARKET SHARE  \n",
       "0       40.46%  \n",
       "1       13.47%  \n",
       "2       12.59%  \n",
       "3        9.14%  \n",
       "4        8.53%  "
      ]
     },
     "execution_count": 103,
     "metadata": {},
     "output_type": "execute_result"
    }
   ],
   "source": [
    "popular_creative_types.head()"
   ]
  },
  {
   "cell_type": "code",
   "execution_count": 104,
   "metadata": {},
   "outputs": [
    {
     "name": "stdout",
     "output_type": "stream",
     "text": [
      "<class 'pandas.core.frame.DataFrame'>\n",
      "RangeIndex: 10 entries, 0 to 9\n",
      "Data columns (total 6 columns):\n",
      " #   Column          Non-Null Count  Dtype  \n",
      "---  ------          --------------  -----  \n",
      " 0   RANK            9 non-null      float64\n",
      " 1   CREATIVE TYPES  9 non-null      object \n",
      " 2   MOVIES          9 non-null      object \n",
      " 3   TOTAL GROSS     9 non-null      object \n",
      " 4   AVERAGE GROSS   9 non-null      object \n",
      " 5   MARKET SHARE    9 non-null      object \n",
      "dtypes: float64(1), object(5)\n",
      "memory usage: 608.0+ bytes\n"
     ]
    }
   ],
   "source": [
    "popular_creative_types.info()"
   ]
  },
  {
   "cell_type": "code",
   "execution_count": 105,
   "metadata": {},
   "outputs": [
    {
     "data": {
      "text/plain": [
       "RANK              1\n",
       "CREATIVE TYPES    1\n",
       "MOVIES            1\n",
       "TOTAL GROSS       1\n",
       "AVERAGE GROSS     1\n",
       "MARKET SHARE      1\n",
       "dtype: int64"
      ]
     },
     "execution_count": 105,
     "metadata": {},
     "output_type": "execute_result"
    }
   ],
   "source": [
    "popular_creative_types.isnull().sum()"
   ]
  },
  {
   "cell_type": "code",
   "execution_count": 106,
   "metadata": {},
   "outputs": [
    {
     "data": {
      "text/html": [
       "<div>\n",
       "<style scoped>\n",
       "    .dataframe tbody tr th:only-of-type {\n",
       "        vertical-align: middle;\n",
       "    }\n",
       "\n",
       "    .dataframe tbody tr th {\n",
       "        vertical-align: top;\n",
       "    }\n",
       "\n",
       "    .dataframe thead th {\n",
       "        text-align: right;\n",
       "    }\n",
       "</style>\n",
       "<table border=\"1\" class=\"dataframe\">\n",
       "  <thead>\n",
       "    <tr style=\"text-align: right;\">\n",
       "      <th></th>\n",
       "      <th>RANK</th>\n",
       "      <th>CREATIVE TYPES</th>\n",
       "      <th>MOVIES</th>\n",
       "      <th>TOTAL GROSS</th>\n",
       "      <th>AVERAGE GROSS</th>\n",
       "      <th>MARKET SHARE</th>\n",
       "    </tr>\n",
       "  </thead>\n",
       "  <tbody>\n",
       "    <tr>\n",
       "      <th>5</th>\n",
       "      <td>6.0</td>\n",
       "      <td>Historical Fiction</td>\n",
       "      <td>1,487</td>\n",
       "      <td>$18,521,260,744</td>\n",
       "      <td>$12,455,454</td>\n",
       "      <td>7.79%</td>\n",
       "    </tr>\n",
       "    <tr>\n",
       "      <th>6</th>\n",
       "      <td>7.0</td>\n",
       "      <td>Dramatization</td>\n",
       "      <td>1,175</td>\n",
       "      <td>$15,715,191,699</td>\n",
       "      <td>$13,374,631</td>\n",
       "      <td>6.61%</td>\n",
       "    </tr>\n",
       "    <tr>\n",
       "      <th>7</th>\n",
       "      <td>8.0</td>\n",
       "      <td>Factual</td>\n",
       "      <td>2,467</td>\n",
       "      <td>$2,960,327,207</td>\n",
       "      <td>$1,199,970</td>\n",
       "      <td>1.25%</td>\n",
       "    </tr>\n",
       "    <tr>\n",
       "      <th>8</th>\n",
       "      <td>9.0</td>\n",
       "      <td>Multiple Creative Types</td>\n",
       "      <td>42</td>\n",
       "      <td>$117,574,526</td>\n",
       "      <td>$2,799,393</td>\n",
       "      <td>0.05%</td>\n",
       "    </tr>\n",
       "    <tr>\n",
       "      <th>9</th>\n",
       "      <td>NaN</td>\n",
       "      <td>NaN</td>\n",
       "      <td>NaN</td>\n",
       "      <td>NaN</td>\n",
       "      <td>NaN</td>\n",
       "      <td>NaN</td>\n",
       "    </tr>\n",
       "  </tbody>\n",
       "</table>\n",
       "</div>"
      ],
      "text/plain": [
       "   RANK           CREATIVE TYPES MOVIES      TOTAL GROSS AVERAGE GROSS  \\\n",
       "5   6.0       Historical Fiction  1,487  $18,521,260,744   $12,455,454   \n",
       "6   7.0            Dramatization  1,175  $15,715,191,699   $13,374,631   \n",
       "7   8.0                  Factual  2,467   $2,960,327,207    $1,199,970   \n",
       "8   9.0  Multiple Creative Types     42     $117,574,526    $2,799,393   \n",
       "9   NaN                      NaN    NaN              NaN           NaN   \n",
       "\n",
       "  MARKET SHARE  \n",
       "5        7.79%  \n",
       "6        6.61%  \n",
       "7        1.25%  \n",
       "8        0.05%  \n",
       "9          NaN  "
      ]
     },
     "execution_count": 106,
     "metadata": {},
     "output_type": "execute_result"
    }
   ],
   "source": [
    "popular_creative_types.tail()"
   ]
  },
  {
   "cell_type": "code",
   "execution_count": 107,
   "metadata": {},
   "outputs": [],
   "source": [
    "popular_creative_types.drop(9, inplace=True)"
   ]
  },
  {
   "cell_type": "code",
   "execution_count": 108,
   "metadata": {},
   "outputs": [],
   "source": [
    "popular_creative_types.drop(columns=[\"RANK\"], inplace=True)"
   ]
  },
  {
   "cell_type": "code",
   "execution_count": 109,
   "metadata": {},
   "outputs": [
    {
     "name": "stderr",
     "output_type": "stream",
     "text": [
      "C:\\Users\\Casper\\AppData\\Local\\Temp/ipykernel_2888/3186355601.py:5: FutureWarning:\n",
      "\n",
      "The default value of regex will change from True to False in a future version. In addition, single character regular expressions will *not* be treated as literal strings when regex=True.\n",
      "\n"
     ]
    }
   ],
   "source": [
    "popular_creative_types[\"MOVIES\"] = popular_creative_types[\"MOVIES\"].str.replace(\",\",\"\")\n",
    "\n",
    "for i in [\"TOTAL GROSS\",\"AVERAGE GROSS\"]:\n",
    "    popular_creative_types[i] = popular_creative_types[i].str.replace(\",\",\"\")\n",
    "    popular_creative_types[i] = popular_creative_types[i].str.replace(\"$\",\"\")"
   ]
  },
  {
   "cell_type": "code",
   "execution_count": 110,
   "metadata": {},
   "outputs": [
    {
     "data": {
      "text/plain": [
       "CREATIVE TYPES    object\n",
       "MOVIES            object\n",
       "TOTAL GROSS       object\n",
       "AVERAGE GROSS     object\n",
       "MARKET SHARE      object\n",
       "dtype: object"
      ]
     },
     "execution_count": 110,
     "metadata": {},
     "output_type": "execute_result"
    }
   ],
   "source": [
    "popular_creative_types.dtypes"
   ]
  },
  {
   "cell_type": "code",
   "execution_count": 111,
   "metadata": {},
   "outputs": [],
   "source": [
    "for col in [\"TOTAL GROSS\",\"AVERAGE GROSS\",\"MOVIES\"]:\n",
    "    popular_creative_types[col] = pd.to_numeric(popular_creative_types[col])"
   ]
  },
  {
   "cell_type": "code",
   "execution_count": 112,
   "metadata": {},
   "outputs": [
    {
     "data": {
      "text/plain": [
       "CREATIVE TYPES    object\n",
       "MOVIES             int64\n",
       "TOTAL GROSS        int64\n",
       "AVERAGE GROSS      int64\n",
       "MARKET SHARE      object\n",
       "dtype: object"
      ]
     },
     "execution_count": 112,
     "metadata": {},
     "output_type": "execute_result"
    }
   ],
   "source": [
    "popular_creative_types.dtypes"
   ]
  },
  {
   "cell_type": "code",
   "execution_count": 113,
   "metadata": {},
   "outputs": [
    {
     "data": {
      "text/html": [
       "<div>\n",
       "<style scoped>\n",
       "    .dataframe tbody tr th:only-of-type {\n",
       "        vertical-align: middle;\n",
       "    }\n",
       "\n",
       "    .dataframe tbody tr th {\n",
       "        vertical-align: top;\n",
       "    }\n",
       "\n",
       "    .dataframe thead th {\n",
       "        text-align: right;\n",
       "    }\n",
       "</style>\n",
       "<table border=\"1\" class=\"dataframe\">\n",
       "  <thead>\n",
       "    <tr style=\"text-align: right;\">\n",
       "      <th></th>\n",
       "      <th>CREATIVE TYPES</th>\n",
       "      <th>MOVIES</th>\n",
       "      <th>TOTAL GROSS</th>\n",
       "      <th>AVERAGE GROSS</th>\n",
       "      <th>MARKET SHARE</th>\n",
       "    </tr>\n",
       "  </thead>\n",
       "  <tbody>\n",
       "    <tr>\n",
       "      <th>0</th>\n",
       "      <td>Contemporary Fiction</td>\n",
       "      <td>7442</td>\n",
       "      <td>96203727036</td>\n",
       "      <td>12927133</td>\n",
       "      <td>40.46%</td>\n",
       "    </tr>\n",
       "    <tr>\n",
       "      <th>1</th>\n",
       "      <td>Kids Fiction</td>\n",
       "      <td>564</td>\n",
       "      <td>32035539746</td>\n",
       "      <td>56800602</td>\n",
       "      <td>13.47%</td>\n",
       "    </tr>\n",
       "    <tr>\n",
       "      <th>2</th>\n",
       "      <td>Science Fiction</td>\n",
       "      <td>724</td>\n",
       "      <td>29922660857</td>\n",
       "      <td>41329642</td>\n",
       "      <td>12.59%</td>\n",
       "    </tr>\n",
       "    <tr>\n",
       "      <th>3</th>\n",
       "      <td>Fantasy</td>\n",
       "      <td>759</td>\n",
       "      <td>21724062575</td>\n",
       "      <td>28621953</td>\n",
       "      <td>9.14%</td>\n",
       "    </tr>\n",
       "    <tr>\n",
       "      <th>4</th>\n",
       "      <td>Super Hero</td>\n",
       "      <td>129</td>\n",
       "      <td>20273157911</td>\n",
       "      <td>157156263</td>\n",
       "      <td>8.53%</td>\n",
       "    </tr>\n",
       "    <tr>\n",
       "      <th>5</th>\n",
       "      <td>Historical Fiction</td>\n",
       "      <td>1487</td>\n",
       "      <td>18521260744</td>\n",
       "      <td>12455454</td>\n",
       "      <td>7.79%</td>\n",
       "    </tr>\n",
       "    <tr>\n",
       "      <th>6</th>\n",
       "      <td>Dramatization</td>\n",
       "      <td>1175</td>\n",
       "      <td>15715191699</td>\n",
       "      <td>13374631</td>\n",
       "      <td>6.61%</td>\n",
       "    </tr>\n",
       "    <tr>\n",
       "      <th>7</th>\n",
       "      <td>Factual</td>\n",
       "      <td>2467</td>\n",
       "      <td>2960327207</td>\n",
       "      <td>1199970</td>\n",
       "      <td>1.25%</td>\n",
       "    </tr>\n",
       "    <tr>\n",
       "      <th>8</th>\n",
       "      <td>Multiple Creative Types</td>\n",
       "      <td>42</td>\n",
       "      <td>117574526</td>\n",
       "      <td>2799393</td>\n",
       "      <td>0.05%</td>\n",
       "    </tr>\n",
       "  </tbody>\n",
       "</table>\n",
       "</div>"
      ],
      "text/plain": [
       "            CREATIVE TYPES  MOVIES  TOTAL GROSS  AVERAGE GROSS MARKET SHARE\n",
       "0     Contemporary Fiction    7442  96203727036       12927133       40.46%\n",
       "1             Kids Fiction     564  32035539746       56800602       13.47%\n",
       "2          Science Fiction     724  29922660857       41329642       12.59%\n",
       "3                  Fantasy     759  21724062575       28621953        9.14%\n",
       "4               Super Hero     129  20273157911      157156263        8.53%\n",
       "5       Historical Fiction    1487  18521260744       12455454        7.79%\n",
       "6            Dramatization    1175  15715191699       13374631        6.61%\n",
       "7                  Factual    2467   2960327207        1199970        1.25%\n",
       "8  Multiple Creative Types      42    117574526        2799393        0.05%"
      ]
     },
     "execution_count": 113,
     "metadata": {},
     "output_type": "execute_result"
    }
   ],
   "source": [
    "popular_creative_types"
   ]
  },
  {
   "cell_type": "code",
   "execution_count": 114,
   "metadata": {},
   "outputs": [],
   "source": [
    "popular_creative_types[\"market_share\"] = popular_creative_types[\"MARKET SHARE\"].str.replace(\"%\",\"\")\n",
    "popular_creative_types[\"market_share\"] = pd.to_numeric(popular_creative_types[\"market_share\"])"
   ]
  },
  {
   "cell_type": "code",
   "execution_count": 238,
   "metadata": {},
   "outputs": [
    {
     "data": {
      "application/vnd.plotly.v1+json": {
       "config": {
        "plotlyServerURL": "https://plot.ly"
       },
       "data": [
        {
         "customdata": [
          [
           "Contemporary Fiction"
          ],
          [
           "Factual"
          ],
          [
           "Historical Fiction"
          ],
          [
           "Dramatization"
          ],
          [
           "Fantasy"
          ],
          [
           "Science Fiction"
          ],
          [
           "Kids Fiction"
          ],
          [
           "Super Hero"
          ],
          [
           "Multiple Creative Types"
          ]
         ],
         "domain": {
          "x": [
           0,
           1
          ],
          "y": [
           0,
           1
          ]
         },
         "hole": 0.7,
         "hovertemplate": "<b>%{customdata[0]}<b>",
         "labels": [
          "Contemporary Fiction",
          "Factual",
          "Historical Fiction",
          "Dramatization",
          "Fantasy",
          "Science Fiction",
          "Kids Fiction",
          "Super Hero",
          "Multiple Creative Types"
         ],
         "legendgroup": "",
         "name": "",
         "showlegend": true,
         "type": "pie",
         "values": [
          40.46,
          1.25,
          7.79,
          6.61,
          9.14,
          12.59,
          13.47,
          8.53,
          0.05
         ]
        }
       ],
       "layout": {
        "font": {
         "family": "Rockwell"
        },
        "legend": {
         "orientation": "h",
         "title": {},
         "tracegroupgap": 0,
         "x": 0.5,
         "xanchor": "center"
        },
        "margin": {
         "t": 60
        },
        "piecolorway": [
         "rgb(141,211,199)",
         "rgb(255,255,179)",
         "rgb(190,186,218)",
         "rgb(251,128,114)",
         "rgb(128,177,211)",
         "rgb(253,180,98)",
         "rgb(179,222,105)",
         "rgb(252,205,229)",
         "rgb(217,217,217)",
         "rgb(188,128,189)",
         "rgb(204,235,197)",
         "rgb(255,237,111)"
        ],
        "template": {
         "data": {
          "bar": [
           {
            "error_x": {
             "color": "rgb(36,36,36)"
            },
            "error_y": {
             "color": "rgb(36,36,36)"
            },
            "marker": {
             "line": {
              "color": "white",
              "width": 0.5
             },
             "pattern": {
              "fillmode": "overlay",
              "size": 10,
              "solidity": 0.2
             }
            },
            "type": "bar"
           }
          ],
          "barpolar": [
           {
            "marker": {
             "line": {
              "color": "white",
              "width": 0.5
             },
             "pattern": {
              "fillmode": "overlay",
              "size": 10,
              "solidity": 0.2
             }
            },
            "type": "barpolar"
           }
          ],
          "carpet": [
           {
            "aaxis": {
             "endlinecolor": "rgb(36,36,36)",
             "gridcolor": "white",
             "linecolor": "white",
             "minorgridcolor": "white",
             "startlinecolor": "rgb(36,36,36)"
            },
            "baxis": {
             "endlinecolor": "rgb(36,36,36)",
             "gridcolor": "white",
             "linecolor": "white",
             "minorgridcolor": "white",
             "startlinecolor": "rgb(36,36,36)"
            },
            "type": "carpet"
           }
          ],
          "choropleth": [
           {
            "colorbar": {
             "outlinewidth": 1,
             "tickcolor": "rgb(36,36,36)",
             "ticks": "outside"
            },
            "type": "choropleth"
           }
          ],
          "contour": [
           {
            "colorbar": {
             "outlinewidth": 1,
             "tickcolor": "rgb(36,36,36)",
             "ticks": "outside"
            },
            "colorscale": [
             [
              0,
              "#440154"
             ],
             [
              0.1111111111111111,
              "#482878"
             ],
             [
              0.2222222222222222,
              "#3e4989"
             ],
             [
              0.3333333333333333,
              "#31688e"
             ],
             [
              0.4444444444444444,
              "#26828e"
             ],
             [
              0.5555555555555556,
              "#1f9e89"
             ],
             [
              0.6666666666666666,
              "#35b779"
             ],
             [
              0.7777777777777778,
              "#6ece58"
             ],
             [
              0.8888888888888888,
              "#b5de2b"
             ],
             [
              1,
              "#fde725"
             ]
            ],
            "type": "contour"
           }
          ],
          "contourcarpet": [
           {
            "colorbar": {
             "outlinewidth": 1,
             "tickcolor": "rgb(36,36,36)",
             "ticks": "outside"
            },
            "type": "contourcarpet"
           }
          ],
          "heatmap": [
           {
            "colorbar": {
             "outlinewidth": 1,
             "tickcolor": "rgb(36,36,36)",
             "ticks": "outside"
            },
            "colorscale": [
             [
              0,
              "#440154"
             ],
             [
              0.1111111111111111,
              "#482878"
             ],
             [
              0.2222222222222222,
              "#3e4989"
             ],
             [
              0.3333333333333333,
              "#31688e"
             ],
             [
              0.4444444444444444,
              "#26828e"
             ],
             [
              0.5555555555555556,
              "#1f9e89"
             ],
             [
              0.6666666666666666,
              "#35b779"
             ],
             [
              0.7777777777777778,
              "#6ece58"
             ],
             [
              0.8888888888888888,
              "#b5de2b"
             ],
             [
              1,
              "#fde725"
             ]
            ],
            "type": "heatmap"
           }
          ],
          "heatmapgl": [
           {
            "colorbar": {
             "outlinewidth": 1,
             "tickcolor": "rgb(36,36,36)",
             "ticks": "outside"
            },
            "colorscale": [
             [
              0,
              "#440154"
             ],
             [
              0.1111111111111111,
              "#482878"
             ],
             [
              0.2222222222222222,
              "#3e4989"
             ],
             [
              0.3333333333333333,
              "#31688e"
             ],
             [
              0.4444444444444444,
              "#26828e"
             ],
             [
              0.5555555555555556,
              "#1f9e89"
             ],
             [
              0.6666666666666666,
              "#35b779"
             ],
             [
              0.7777777777777778,
              "#6ece58"
             ],
             [
              0.8888888888888888,
              "#b5de2b"
             ],
             [
              1,
              "#fde725"
             ]
            ],
            "type": "heatmapgl"
           }
          ],
          "histogram": [
           {
            "marker": {
             "line": {
              "color": "white",
              "width": 0.6
             }
            },
            "type": "histogram"
           }
          ],
          "histogram2d": [
           {
            "colorbar": {
             "outlinewidth": 1,
             "tickcolor": "rgb(36,36,36)",
             "ticks": "outside"
            },
            "colorscale": [
             [
              0,
              "#440154"
             ],
             [
              0.1111111111111111,
              "#482878"
             ],
             [
              0.2222222222222222,
              "#3e4989"
             ],
             [
              0.3333333333333333,
              "#31688e"
             ],
             [
              0.4444444444444444,
              "#26828e"
             ],
             [
              0.5555555555555556,
              "#1f9e89"
             ],
             [
              0.6666666666666666,
              "#35b779"
             ],
             [
              0.7777777777777778,
              "#6ece58"
             ],
             [
              0.8888888888888888,
              "#b5de2b"
             ],
             [
              1,
              "#fde725"
             ]
            ],
            "type": "histogram2d"
           }
          ],
          "histogram2dcontour": [
           {
            "colorbar": {
             "outlinewidth": 1,
             "tickcolor": "rgb(36,36,36)",
             "ticks": "outside"
            },
            "colorscale": [
             [
              0,
              "#440154"
             ],
             [
              0.1111111111111111,
              "#482878"
             ],
             [
              0.2222222222222222,
              "#3e4989"
             ],
             [
              0.3333333333333333,
              "#31688e"
             ],
             [
              0.4444444444444444,
              "#26828e"
             ],
             [
              0.5555555555555556,
              "#1f9e89"
             ],
             [
              0.6666666666666666,
              "#35b779"
             ],
             [
              0.7777777777777778,
              "#6ece58"
             ],
             [
              0.8888888888888888,
              "#b5de2b"
             ],
             [
              1,
              "#fde725"
             ]
            ],
            "type": "histogram2dcontour"
           }
          ],
          "mesh3d": [
           {
            "colorbar": {
             "outlinewidth": 1,
             "tickcolor": "rgb(36,36,36)",
             "ticks": "outside"
            },
            "type": "mesh3d"
           }
          ],
          "parcoords": [
           {
            "line": {
             "colorbar": {
              "outlinewidth": 1,
              "tickcolor": "rgb(36,36,36)",
              "ticks": "outside"
             }
            },
            "type": "parcoords"
           }
          ],
          "pie": [
           {
            "automargin": true,
            "type": "pie"
           }
          ],
          "scatter": [
           {
            "marker": {
             "colorbar": {
              "outlinewidth": 1,
              "tickcolor": "rgb(36,36,36)",
              "ticks": "outside"
             }
            },
            "type": "scatter"
           }
          ],
          "scatter3d": [
           {
            "line": {
             "colorbar": {
              "outlinewidth": 1,
              "tickcolor": "rgb(36,36,36)",
              "ticks": "outside"
             }
            },
            "marker": {
             "colorbar": {
              "outlinewidth": 1,
              "tickcolor": "rgb(36,36,36)",
              "ticks": "outside"
             }
            },
            "type": "scatter3d"
           }
          ],
          "scattercarpet": [
           {
            "marker": {
             "colorbar": {
              "outlinewidth": 1,
              "tickcolor": "rgb(36,36,36)",
              "ticks": "outside"
             }
            },
            "type": "scattercarpet"
           }
          ],
          "scattergeo": [
           {
            "marker": {
             "colorbar": {
              "outlinewidth": 1,
              "tickcolor": "rgb(36,36,36)",
              "ticks": "outside"
             }
            },
            "type": "scattergeo"
           }
          ],
          "scattergl": [
           {
            "marker": {
             "colorbar": {
              "outlinewidth": 1,
              "tickcolor": "rgb(36,36,36)",
              "ticks": "outside"
             }
            },
            "type": "scattergl"
           }
          ],
          "scattermapbox": [
           {
            "marker": {
             "colorbar": {
              "outlinewidth": 1,
              "tickcolor": "rgb(36,36,36)",
              "ticks": "outside"
             }
            },
            "type": "scattermapbox"
           }
          ],
          "scatterpolar": [
           {
            "marker": {
             "colorbar": {
              "outlinewidth": 1,
              "tickcolor": "rgb(36,36,36)",
              "ticks": "outside"
             }
            },
            "type": "scatterpolar"
           }
          ],
          "scatterpolargl": [
           {
            "marker": {
             "colorbar": {
              "outlinewidth": 1,
              "tickcolor": "rgb(36,36,36)",
              "ticks": "outside"
             }
            },
            "type": "scatterpolargl"
           }
          ],
          "scatterternary": [
           {
            "marker": {
             "colorbar": {
              "outlinewidth": 1,
              "tickcolor": "rgb(36,36,36)",
              "ticks": "outside"
             }
            },
            "type": "scatterternary"
           }
          ],
          "surface": [
           {
            "colorbar": {
             "outlinewidth": 1,
             "tickcolor": "rgb(36,36,36)",
             "ticks": "outside"
            },
            "colorscale": [
             [
              0,
              "#440154"
             ],
             [
              0.1111111111111111,
              "#482878"
             ],
             [
              0.2222222222222222,
              "#3e4989"
             ],
             [
              0.3333333333333333,
              "#31688e"
             ],
             [
              0.4444444444444444,
              "#26828e"
             ],
             [
              0.5555555555555556,
              "#1f9e89"
             ],
             [
              0.6666666666666666,
              "#35b779"
             ],
             [
              0.7777777777777778,
              "#6ece58"
             ],
             [
              0.8888888888888888,
              "#b5de2b"
             ],
             [
              1,
              "#fde725"
             ]
            ],
            "type": "surface"
           }
          ],
          "table": [
           {
            "cells": {
             "fill": {
              "color": "rgb(237,237,237)"
             },
             "line": {
              "color": "white"
             }
            },
            "header": {
             "fill": {
              "color": "rgb(217,217,217)"
             },
             "line": {
              "color": "white"
             }
            },
            "type": "table"
           }
          ]
         },
         "layout": {
          "annotationdefaults": {
           "arrowhead": 0,
           "arrowwidth": 1
          },
          "autotypenumbers": "strict",
          "coloraxis": {
           "colorbar": {
            "outlinewidth": 1,
            "tickcolor": "rgb(36,36,36)",
            "ticks": "outside"
           }
          },
          "colorscale": {
           "diverging": [
            [
             0,
             "rgb(103,0,31)"
            ],
            [
             0.1,
             "rgb(178,24,43)"
            ],
            [
             0.2,
             "rgb(214,96,77)"
            ],
            [
             0.3,
             "rgb(244,165,130)"
            ],
            [
             0.4,
             "rgb(253,219,199)"
            ],
            [
             0.5,
             "rgb(247,247,247)"
            ],
            [
             0.6,
             "rgb(209,229,240)"
            ],
            [
             0.7,
             "rgb(146,197,222)"
            ],
            [
             0.8,
             "rgb(67,147,195)"
            ],
            [
             0.9,
             "rgb(33,102,172)"
            ],
            [
             1,
             "rgb(5,48,97)"
            ]
           ],
           "sequential": [
            [
             0,
             "#440154"
            ],
            [
             0.1111111111111111,
             "#482878"
            ],
            [
             0.2222222222222222,
             "#3e4989"
            ],
            [
             0.3333333333333333,
             "#31688e"
            ],
            [
             0.4444444444444444,
             "#26828e"
            ],
            [
             0.5555555555555556,
             "#1f9e89"
            ],
            [
             0.6666666666666666,
             "#35b779"
            ],
            [
             0.7777777777777778,
             "#6ece58"
            ],
            [
             0.8888888888888888,
             "#b5de2b"
            ],
            [
             1,
             "#fde725"
            ]
           ],
           "sequentialminus": [
            [
             0,
             "#440154"
            ],
            [
             0.1111111111111111,
             "#482878"
            ],
            [
             0.2222222222222222,
             "#3e4989"
            ],
            [
             0.3333333333333333,
             "#31688e"
            ],
            [
             0.4444444444444444,
             "#26828e"
            ],
            [
             0.5555555555555556,
             "#1f9e89"
            ],
            [
             0.6666666666666666,
             "#35b779"
            ],
            [
             0.7777777777777778,
             "#6ece58"
            ],
            [
             0.8888888888888888,
             "#b5de2b"
            ],
            [
             1,
             "#fde725"
            ]
           ]
          },
          "colorway": [
           "#1F77B4",
           "#FF7F0E",
           "#2CA02C",
           "#D62728",
           "#9467BD",
           "#8C564B",
           "#E377C2",
           "#7F7F7F",
           "#BCBD22",
           "#17BECF"
          ],
          "font": {
           "color": "rgb(36,36,36)"
          },
          "geo": {
           "bgcolor": "white",
           "lakecolor": "white",
           "landcolor": "white",
           "showlakes": true,
           "showland": true,
           "subunitcolor": "white"
          },
          "hoverlabel": {
           "align": "left"
          },
          "hovermode": "closest",
          "mapbox": {
           "style": "light"
          },
          "paper_bgcolor": "white",
          "plot_bgcolor": "white",
          "polar": {
           "angularaxis": {
            "gridcolor": "rgb(232,232,232)",
            "linecolor": "rgb(36,36,36)",
            "showgrid": false,
            "showline": true,
            "ticks": "outside"
           },
           "bgcolor": "white",
           "radialaxis": {
            "gridcolor": "rgb(232,232,232)",
            "linecolor": "rgb(36,36,36)",
            "showgrid": false,
            "showline": true,
            "ticks": "outside"
           }
          },
          "scene": {
           "xaxis": {
            "backgroundcolor": "white",
            "gridcolor": "rgb(232,232,232)",
            "gridwidth": 2,
            "linecolor": "rgb(36,36,36)",
            "showbackground": true,
            "showgrid": false,
            "showline": true,
            "ticks": "outside",
            "zeroline": false,
            "zerolinecolor": "rgb(36,36,36)"
           },
           "yaxis": {
            "backgroundcolor": "white",
            "gridcolor": "rgb(232,232,232)",
            "gridwidth": 2,
            "linecolor": "rgb(36,36,36)",
            "showbackground": true,
            "showgrid": false,
            "showline": true,
            "ticks": "outside",
            "zeroline": false,
            "zerolinecolor": "rgb(36,36,36)"
           },
           "zaxis": {
            "backgroundcolor": "white",
            "gridcolor": "rgb(232,232,232)",
            "gridwidth": 2,
            "linecolor": "rgb(36,36,36)",
            "showbackground": true,
            "showgrid": false,
            "showline": true,
            "ticks": "outside",
            "zeroline": false,
            "zerolinecolor": "rgb(36,36,36)"
           }
          },
          "shapedefaults": {
           "fillcolor": "black",
           "line": {
            "width": 0
           },
           "opacity": 0.3
          },
          "ternary": {
           "aaxis": {
            "gridcolor": "rgb(232,232,232)",
            "linecolor": "rgb(36,36,36)",
            "showgrid": false,
            "showline": true,
            "ticks": "outside"
           },
           "baxis": {
            "gridcolor": "rgb(232,232,232)",
            "linecolor": "rgb(36,36,36)",
            "showgrid": false,
            "showline": true,
            "ticks": "outside"
           },
           "bgcolor": "white",
           "caxis": {
            "gridcolor": "rgb(232,232,232)",
            "linecolor": "rgb(36,36,36)",
            "showgrid": false,
            "showline": true,
            "ticks": "outside"
           }
          },
          "title": {
           "x": 0.05
          },
          "xaxis": {
           "automargin": true,
           "gridcolor": "rgb(232,232,232)",
           "linecolor": "rgb(36,36,36)",
           "showgrid": false,
           "showline": true,
           "ticks": "outside",
           "title": {
            "standoff": 15
           },
           "zeroline": false,
           "zerolinecolor": "rgb(36,36,36)"
          },
          "yaxis": {
           "automargin": true,
           "gridcolor": "rgb(232,232,232)",
           "linecolor": "rgb(36,36,36)",
           "showgrid": false,
           "showline": true,
           "ticks": "outside",
           "title": {
            "standoff": 15
           },
           "zeroline": false,
           "zerolinecolor": "rgb(36,36,36)"
          }
         }
        },
        "title": {
         "text": "Creative Types Market Share",
         "x": 0.5
        }
       }
      }
     },
     "metadata": {},
     "output_type": "display_data"
    }
   ],
   "source": [
    "fig = px.pie(popular_creative_types, names=\"CREATIVE TYPES\", values=\"market_share\", hole=0.7, custom_data=[\"CREATIVE TYPES\"],color_discrete_sequence=px.colors.qualitative.Set3)\n",
    "\n",
    "fig.update_traces(hovertemplate=\"<br>\".join([\"<b>%{customdata[0]}<b>\"]))\n",
    "\n",
    "fig.update_layout(template=\"simple_white\", title=\"Creative Types Market Share\")\n",
    "fig.update_layout(title_x=0.5,\n",
    "    font_family=\"Rockwell\",\n",
    "    legend=dict(\n",
    "        title=None, orientation=\"h\", x=0.5, xanchor=\"center\"\n",
    "    )\n",
    ")\n",
    "\n",
    "fig.show()"
   ]
  },
  {
   "cell_type": "code",
   "execution_count": 116,
   "metadata": {},
   "outputs": [],
   "source": [
    "''' Tuning for the visualization\n",
    "    NOT: Don't need anymore! (The following cell is necessary for scaling the visuals)\n",
    "    INSTEAD: add custom_data=[] to the plots and update_traces(hover_template=\"<br>\".join([\"<b>%{customdata[0]}<b>\"]))\n",
    "''' \n",
    "\n",
    "popular_creative_types = popular_creative_types.sort_values(\"MOVIES\", ascending=False).reset_index()"
   ]
  },
  {
   "cell_type": "code",
   "execution_count": 213,
   "metadata": {},
   "outputs": [],
   "source": [
    "popular_creative_types[\"total_gross\"] = popular_creative_types[\"TOTAL GROSS\"]/10000000\n",
    "popular_creative_types[\"avg_gross\"] = popular_creative_types[\"AVERAGE GROSS\"]/19000"
   ]
  },
  {
   "cell_type": "code",
   "execution_count": 243,
   "metadata": {},
   "outputs": [],
   "source": [
    "def foo_3(x):\n",
    "    if len(str(x)) <= 9:\n",
    "        return \"$\" + str(x)[0:3] + \" M\"\n",
    "    else:\n",
    "        return \"$\" + str(x)[0:1] + \".\" + str(x)[1:2] + \" B\"\n",
    "\n",
    "def foo_4(x):\n",
    "    if len(str(x)) <= 9:\n",
    "        return \"$\" + str(x)[0:3] + \" M Total Gross\"\n",
    "    elif len(str(x)) == 10:\n",
    "        return \"$\" + str(x)[0:1] + \".\" + str(x)[1:2] + \" B Total Gross\"\n",
    "    elif len(str(x)) == 11:\n",
    "        return \"$\" + str(x)[0:2] + \".\" + str(x)[2:3] + \" B Total Gross\"\n",
    "    else:\n",
    "        return \"$\" + str(x)[0:3] + \".\" + str(x)[3:4] + \" B Total Gross\"\n",
    "\n",
    "def foo_5(x):\n",
    "    if len(str(x)) <= 9:\n",
    "        return \"$\" + str(x)[0:3] + \" M Average Gross\"\n",
    "    else:\n",
    "        return \"$\" + str(x)[0:1] + \".\" + str(x)[1:2] + \" B Average Gross\""
   ]
  },
  {
   "cell_type": "code",
   "execution_count": 244,
   "metadata": {},
   "outputs": [],
   "source": [
    "popular_creative_types[\"TG\"] = popular_creative_types[\"TOTAL GROSS\"].apply(foo_4)\n",
    "popular_creative_types[\"TG2\"] = popular_creative_types[\"TOTAL GROSS\"].apply(foo_4)\n",
    "popular_creative_types[\"M\"] = popular_creative_types[\"MOVIES\"].apply(lambda x: str(x) + \" Movies\")\n",
    "popular_creative_types[\"AVG\"] = popular_creative_types[\"AVERAGE GROSS\"].apply(foo_5)"
   ]
  },
  {
   "cell_type": "code",
   "execution_count": 245,
   "metadata": {},
   "outputs": [
    {
     "data": {
      "application/vnd.plotly.v1+json": {
       "config": {
        "plotlyServerURL": "https://plot.ly"
       },
       "data": [
        {
         "alignmentgroup": "True",
         "customdata": [
          [
           "7442 Movies"
          ],
          [
           "2467 Movies"
          ],
          [
           "1487 Movies"
          ],
          [
           "1175 Movies"
          ],
          [
           "759 Movies"
          ],
          [
           "724 Movies"
          ],
          [
           "564 Movies"
          ],
          [
           "129 Movies"
          ],
          [
           "42 Movies"
          ]
         ],
         "hovertemplate": "<b>%{customdata[0]}<b>",
         "legendgroup": "",
         "marker": {
          "color": "burlywood",
          "pattern": {
           "shape": ""
          }
         },
         "name": "",
         "offsetgroup": "",
         "orientation": "v",
         "showlegend": false,
         "textposition": "auto",
         "type": "bar",
         "x": [
          "Contemporary Fiction",
          "Factual",
          "Historical Fiction",
          "Dramatization",
          "Fantasy",
          "Science Fiction",
          "Kids Fiction",
          "Super Hero",
          "Multiple Creative Types"
         ],
         "xaxis": "x",
         "y": [
          7442,
          2467,
          1487,
          1175,
          759,
          724,
          564,
          129,
          42
         ],
         "yaxis": "y"
        },
        {
         "alignmentgroup": "True",
         "customdata": [
          [
           "$96.2 B Total Gross"
          ],
          [
           "$2.9 B Total Gross"
          ],
          [
           "$18.5 B Total Gross"
          ],
          [
           "$15.7 B Total Gross"
          ],
          [
           "$21.7 B Total Gross"
          ],
          [
           "$29.9 B Total Gross"
          ],
          [
           "$32.0 B Total Gross"
          ],
          [
           "$20.2 B Total Gross"
          ],
          [
           "$117 M Total Gross"
          ]
         ],
         "hovertemplate": "<b>%{customdata[0]}<b>",
         "legendgroup": "",
         "marker": {
          "color": "lightseagreen",
          "pattern": {
           "shape": ""
          }
         },
         "name": "",
         "offsetgroup": "",
         "orientation": "v",
         "showlegend": false,
         "textposition": "auto",
         "type": "bar",
         "x": [
          "Contemporary Fiction",
          "Factual",
          "Historical Fiction",
          "Dramatization",
          "Fantasy",
          "Science Fiction",
          "Kids Fiction",
          "Super Hero",
          "Multiple Creative Types"
         ],
         "xaxis": "x",
         "y": [
          9620.3727036,
          296.0327207,
          1852.1260744,
          1571.5191699,
          2172.4062575,
          2992.2660857,
          3203.5539746,
          2027.3157911,
          11.7574526
         ],
         "yaxis": "y"
        },
        {
         "customdata": [
          [
           "$129 M Average Gross"
          ],
          [
           "$119 M Average Gross"
          ],
          [
           "$124 M Average Gross"
          ],
          [
           "$133 M Average Gross"
          ],
          [
           "$286 M Average Gross"
          ],
          [
           "$413 M Average Gross"
          ],
          [
           "$568 M Average Gross"
          ],
          [
           "$157 M Average Gross"
          ],
          [
           "$279 M Average Gross"
          ]
         ],
         "hovertemplate": "<b>%{customdata[0]}<b>",
         "legendgroup": "",
         "marker": {
          "color": "DarkSlateGray",
          "opacity": 0.9,
          "size": [
           12927133,
           1199970,
           12455454,
           13374631,
           28621953,
           41329642,
           56800602,
           157156263,
           2799393
          ],
          "sizemode": "area",
          "sizeref": 62862.5052,
          "symbol": "circle"
         },
         "mode": "markers",
         "name": "",
         "orientation": "v",
         "showlegend": false,
         "type": "scatter",
         "x": [
          "Contemporary Fiction",
          "Factual",
          "Historical Fiction",
          "Dramatization",
          "Fantasy",
          "Science Fiction",
          "Kids Fiction",
          "Super Hero",
          "Multiple Creative Types"
         ],
         "xaxis": "x",
         "y": [
          680.3754210526316,
          63.15631578947369,
          655.5502105263158,
          703.9279473684211,
          1506.4185789473684,
          2175.2443157894736,
          2989.5053684210525,
          8271.382263157895,
          147.33647368421052
         ],
         "yaxis": "y"
        }
       ],
       "layout": {
        "annotations": [
         {
          "font": {
           "size": 15
          },
          "showarrow": false,
          "text": "Super Hero movies had the most average profit",
          "x": "Super Hero",
          "y": 6063.156315789473
         }
        ],
        "font": {
         "family": "Rockwell"
        },
        "hovermode": "x unified",
        "legend": {
         "orientation": "h",
         "title": {},
         "x": 0.5,
         "xanchor": "center",
         "y": 1,
         "yanchor": "bottom"
        },
        "template": {
         "data": {
          "bar": [
           {
            "error_x": {
             "color": "rgb(36,36,36)"
            },
            "error_y": {
             "color": "rgb(36,36,36)"
            },
            "marker": {
             "line": {
              "color": "white",
              "width": 0.5
             },
             "pattern": {
              "fillmode": "overlay",
              "size": 10,
              "solidity": 0.2
             }
            },
            "type": "bar"
           }
          ],
          "barpolar": [
           {
            "marker": {
             "line": {
              "color": "white",
              "width": 0.5
             },
             "pattern": {
              "fillmode": "overlay",
              "size": 10,
              "solidity": 0.2
             }
            },
            "type": "barpolar"
           }
          ],
          "carpet": [
           {
            "aaxis": {
             "endlinecolor": "rgb(36,36,36)",
             "gridcolor": "white",
             "linecolor": "white",
             "minorgridcolor": "white",
             "startlinecolor": "rgb(36,36,36)"
            },
            "baxis": {
             "endlinecolor": "rgb(36,36,36)",
             "gridcolor": "white",
             "linecolor": "white",
             "minorgridcolor": "white",
             "startlinecolor": "rgb(36,36,36)"
            },
            "type": "carpet"
           }
          ],
          "choropleth": [
           {
            "colorbar": {
             "outlinewidth": 1,
             "tickcolor": "rgb(36,36,36)",
             "ticks": "outside"
            },
            "type": "choropleth"
           }
          ],
          "contour": [
           {
            "colorbar": {
             "outlinewidth": 1,
             "tickcolor": "rgb(36,36,36)",
             "ticks": "outside"
            },
            "colorscale": [
             [
              0,
              "#440154"
             ],
             [
              0.1111111111111111,
              "#482878"
             ],
             [
              0.2222222222222222,
              "#3e4989"
             ],
             [
              0.3333333333333333,
              "#31688e"
             ],
             [
              0.4444444444444444,
              "#26828e"
             ],
             [
              0.5555555555555556,
              "#1f9e89"
             ],
             [
              0.6666666666666666,
              "#35b779"
             ],
             [
              0.7777777777777778,
              "#6ece58"
             ],
             [
              0.8888888888888888,
              "#b5de2b"
             ],
             [
              1,
              "#fde725"
             ]
            ],
            "type": "contour"
           }
          ],
          "contourcarpet": [
           {
            "colorbar": {
             "outlinewidth": 1,
             "tickcolor": "rgb(36,36,36)",
             "ticks": "outside"
            },
            "type": "contourcarpet"
           }
          ],
          "heatmap": [
           {
            "colorbar": {
             "outlinewidth": 1,
             "tickcolor": "rgb(36,36,36)",
             "ticks": "outside"
            },
            "colorscale": [
             [
              0,
              "#440154"
             ],
             [
              0.1111111111111111,
              "#482878"
             ],
             [
              0.2222222222222222,
              "#3e4989"
             ],
             [
              0.3333333333333333,
              "#31688e"
             ],
             [
              0.4444444444444444,
              "#26828e"
             ],
             [
              0.5555555555555556,
              "#1f9e89"
             ],
             [
              0.6666666666666666,
              "#35b779"
             ],
             [
              0.7777777777777778,
              "#6ece58"
             ],
             [
              0.8888888888888888,
              "#b5de2b"
             ],
             [
              1,
              "#fde725"
             ]
            ],
            "type": "heatmap"
           }
          ],
          "heatmapgl": [
           {
            "colorbar": {
             "outlinewidth": 1,
             "tickcolor": "rgb(36,36,36)",
             "ticks": "outside"
            },
            "colorscale": [
             [
              0,
              "#440154"
             ],
             [
              0.1111111111111111,
              "#482878"
             ],
             [
              0.2222222222222222,
              "#3e4989"
             ],
             [
              0.3333333333333333,
              "#31688e"
             ],
             [
              0.4444444444444444,
              "#26828e"
             ],
             [
              0.5555555555555556,
              "#1f9e89"
             ],
             [
              0.6666666666666666,
              "#35b779"
             ],
             [
              0.7777777777777778,
              "#6ece58"
             ],
             [
              0.8888888888888888,
              "#b5de2b"
             ],
             [
              1,
              "#fde725"
             ]
            ],
            "type": "heatmapgl"
           }
          ],
          "histogram": [
           {
            "marker": {
             "line": {
              "color": "white",
              "width": 0.6
             }
            },
            "type": "histogram"
           }
          ],
          "histogram2d": [
           {
            "colorbar": {
             "outlinewidth": 1,
             "tickcolor": "rgb(36,36,36)",
             "ticks": "outside"
            },
            "colorscale": [
             [
              0,
              "#440154"
             ],
             [
              0.1111111111111111,
              "#482878"
             ],
             [
              0.2222222222222222,
              "#3e4989"
             ],
             [
              0.3333333333333333,
              "#31688e"
             ],
             [
              0.4444444444444444,
              "#26828e"
             ],
             [
              0.5555555555555556,
              "#1f9e89"
             ],
             [
              0.6666666666666666,
              "#35b779"
             ],
             [
              0.7777777777777778,
              "#6ece58"
             ],
             [
              0.8888888888888888,
              "#b5de2b"
             ],
             [
              1,
              "#fde725"
             ]
            ],
            "type": "histogram2d"
           }
          ],
          "histogram2dcontour": [
           {
            "colorbar": {
             "outlinewidth": 1,
             "tickcolor": "rgb(36,36,36)",
             "ticks": "outside"
            },
            "colorscale": [
             [
              0,
              "#440154"
             ],
             [
              0.1111111111111111,
              "#482878"
             ],
             [
              0.2222222222222222,
              "#3e4989"
             ],
             [
              0.3333333333333333,
              "#31688e"
             ],
             [
              0.4444444444444444,
              "#26828e"
             ],
             [
              0.5555555555555556,
              "#1f9e89"
             ],
             [
              0.6666666666666666,
              "#35b779"
             ],
             [
              0.7777777777777778,
              "#6ece58"
             ],
             [
              0.8888888888888888,
              "#b5de2b"
             ],
             [
              1,
              "#fde725"
             ]
            ],
            "type": "histogram2dcontour"
           }
          ],
          "mesh3d": [
           {
            "colorbar": {
             "outlinewidth": 1,
             "tickcolor": "rgb(36,36,36)",
             "ticks": "outside"
            },
            "type": "mesh3d"
           }
          ],
          "parcoords": [
           {
            "line": {
             "colorbar": {
              "outlinewidth": 1,
              "tickcolor": "rgb(36,36,36)",
              "ticks": "outside"
             }
            },
            "type": "parcoords"
           }
          ],
          "pie": [
           {
            "automargin": true,
            "type": "pie"
           }
          ],
          "scatter": [
           {
            "marker": {
             "colorbar": {
              "outlinewidth": 1,
              "tickcolor": "rgb(36,36,36)",
              "ticks": "outside"
             }
            },
            "type": "scatter"
           }
          ],
          "scatter3d": [
           {
            "line": {
             "colorbar": {
              "outlinewidth": 1,
              "tickcolor": "rgb(36,36,36)",
              "ticks": "outside"
             }
            },
            "marker": {
             "colorbar": {
              "outlinewidth": 1,
              "tickcolor": "rgb(36,36,36)",
              "ticks": "outside"
             }
            },
            "type": "scatter3d"
           }
          ],
          "scattercarpet": [
           {
            "marker": {
             "colorbar": {
              "outlinewidth": 1,
              "tickcolor": "rgb(36,36,36)",
              "ticks": "outside"
             }
            },
            "type": "scattercarpet"
           }
          ],
          "scattergeo": [
           {
            "marker": {
             "colorbar": {
              "outlinewidth": 1,
              "tickcolor": "rgb(36,36,36)",
              "ticks": "outside"
             }
            },
            "type": "scattergeo"
           }
          ],
          "scattergl": [
           {
            "marker": {
             "colorbar": {
              "outlinewidth": 1,
              "tickcolor": "rgb(36,36,36)",
              "ticks": "outside"
             }
            },
            "type": "scattergl"
           }
          ],
          "scattermapbox": [
           {
            "marker": {
             "colorbar": {
              "outlinewidth": 1,
              "tickcolor": "rgb(36,36,36)",
              "ticks": "outside"
             }
            },
            "type": "scattermapbox"
           }
          ],
          "scatterpolar": [
           {
            "marker": {
             "colorbar": {
              "outlinewidth": 1,
              "tickcolor": "rgb(36,36,36)",
              "ticks": "outside"
             }
            },
            "type": "scatterpolar"
           }
          ],
          "scatterpolargl": [
           {
            "marker": {
             "colorbar": {
              "outlinewidth": 1,
              "tickcolor": "rgb(36,36,36)",
              "ticks": "outside"
             }
            },
            "type": "scatterpolargl"
           }
          ],
          "scatterternary": [
           {
            "marker": {
             "colorbar": {
              "outlinewidth": 1,
              "tickcolor": "rgb(36,36,36)",
              "ticks": "outside"
             }
            },
            "type": "scatterternary"
           }
          ],
          "surface": [
           {
            "colorbar": {
             "outlinewidth": 1,
             "tickcolor": "rgb(36,36,36)",
             "ticks": "outside"
            },
            "colorscale": [
             [
              0,
              "#440154"
             ],
             [
              0.1111111111111111,
              "#482878"
             ],
             [
              0.2222222222222222,
              "#3e4989"
             ],
             [
              0.3333333333333333,
              "#31688e"
             ],
             [
              0.4444444444444444,
              "#26828e"
             ],
             [
              0.5555555555555556,
              "#1f9e89"
             ],
             [
              0.6666666666666666,
              "#35b779"
             ],
             [
              0.7777777777777778,
              "#6ece58"
             ],
             [
              0.8888888888888888,
              "#b5de2b"
             ],
             [
              1,
              "#fde725"
             ]
            ],
            "type": "surface"
           }
          ],
          "table": [
           {
            "cells": {
             "fill": {
              "color": "rgb(237,237,237)"
             },
             "line": {
              "color": "white"
             }
            },
            "header": {
             "fill": {
              "color": "rgb(217,217,217)"
             },
             "line": {
              "color": "white"
             }
            },
            "type": "table"
           }
          ]
         },
         "layout": {
          "annotationdefaults": {
           "arrowhead": 0,
           "arrowwidth": 1
          },
          "autotypenumbers": "strict",
          "coloraxis": {
           "colorbar": {
            "outlinewidth": 1,
            "tickcolor": "rgb(36,36,36)",
            "ticks": "outside"
           }
          },
          "colorscale": {
           "diverging": [
            [
             0,
             "rgb(103,0,31)"
            ],
            [
             0.1,
             "rgb(178,24,43)"
            ],
            [
             0.2,
             "rgb(214,96,77)"
            ],
            [
             0.3,
             "rgb(244,165,130)"
            ],
            [
             0.4,
             "rgb(253,219,199)"
            ],
            [
             0.5,
             "rgb(247,247,247)"
            ],
            [
             0.6,
             "rgb(209,229,240)"
            ],
            [
             0.7,
             "rgb(146,197,222)"
            ],
            [
             0.8,
             "rgb(67,147,195)"
            ],
            [
             0.9,
             "rgb(33,102,172)"
            ],
            [
             1,
             "rgb(5,48,97)"
            ]
           ],
           "sequential": [
            [
             0,
             "#440154"
            ],
            [
             0.1111111111111111,
             "#482878"
            ],
            [
             0.2222222222222222,
             "#3e4989"
            ],
            [
             0.3333333333333333,
             "#31688e"
            ],
            [
             0.4444444444444444,
             "#26828e"
            ],
            [
             0.5555555555555556,
             "#1f9e89"
            ],
            [
             0.6666666666666666,
             "#35b779"
            ],
            [
             0.7777777777777778,
             "#6ece58"
            ],
            [
             0.8888888888888888,
             "#b5de2b"
            ],
            [
             1,
             "#fde725"
            ]
           ],
           "sequentialminus": [
            [
             0,
             "#440154"
            ],
            [
             0.1111111111111111,
             "#482878"
            ],
            [
             0.2222222222222222,
             "#3e4989"
            ],
            [
             0.3333333333333333,
             "#31688e"
            ],
            [
             0.4444444444444444,
             "#26828e"
            ],
            [
             0.5555555555555556,
             "#1f9e89"
            ],
            [
             0.6666666666666666,
             "#35b779"
            ],
            [
             0.7777777777777778,
             "#6ece58"
            ],
            [
             0.8888888888888888,
             "#b5de2b"
            ],
            [
             1,
             "#fde725"
            ]
           ]
          },
          "colorway": [
           "#1F77B4",
           "#FF7F0E",
           "#2CA02C",
           "#D62728",
           "#9467BD",
           "#8C564B",
           "#E377C2",
           "#7F7F7F",
           "#BCBD22",
           "#17BECF"
          ],
          "font": {
           "color": "rgb(36,36,36)"
          },
          "geo": {
           "bgcolor": "white",
           "lakecolor": "white",
           "landcolor": "white",
           "showlakes": true,
           "showland": true,
           "subunitcolor": "white"
          },
          "hoverlabel": {
           "align": "left"
          },
          "hovermode": "closest",
          "mapbox": {
           "style": "light"
          },
          "paper_bgcolor": "white",
          "plot_bgcolor": "white",
          "polar": {
           "angularaxis": {
            "gridcolor": "rgb(232,232,232)",
            "linecolor": "rgb(36,36,36)",
            "showgrid": false,
            "showline": true,
            "ticks": "outside"
           },
           "bgcolor": "white",
           "radialaxis": {
            "gridcolor": "rgb(232,232,232)",
            "linecolor": "rgb(36,36,36)",
            "showgrid": false,
            "showline": true,
            "ticks": "outside"
           }
          },
          "scene": {
           "xaxis": {
            "backgroundcolor": "white",
            "gridcolor": "rgb(232,232,232)",
            "gridwidth": 2,
            "linecolor": "rgb(36,36,36)",
            "showbackground": true,
            "showgrid": false,
            "showline": true,
            "ticks": "outside",
            "zeroline": false,
            "zerolinecolor": "rgb(36,36,36)"
           },
           "yaxis": {
            "backgroundcolor": "white",
            "gridcolor": "rgb(232,232,232)",
            "gridwidth": 2,
            "linecolor": "rgb(36,36,36)",
            "showbackground": true,
            "showgrid": false,
            "showline": true,
            "ticks": "outside",
            "zeroline": false,
            "zerolinecolor": "rgb(36,36,36)"
           },
           "zaxis": {
            "backgroundcolor": "white",
            "gridcolor": "rgb(232,232,232)",
            "gridwidth": 2,
            "linecolor": "rgb(36,36,36)",
            "showbackground": true,
            "showgrid": false,
            "showline": true,
            "ticks": "outside",
            "zeroline": false,
            "zerolinecolor": "rgb(36,36,36)"
           }
          },
          "shapedefaults": {
           "fillcolor": "black",
           "line": {
            "width": 0
           },
           "opacity": 0.3
          },
          "ternary": {
           "aaxis": {
            "gridcolor": "rgb(232,232,232)",
            "linecolor": "rgb(36,36,36)",
            "showgrid": false,
            "showline": true,
            "ticks": "outside"
           },
           "baxis": {
            "gridcolor": "rgb(232,232,232)",
            "linecolor": "rgb(36,36,36)",
            "showgrid": false,
            "showline": true,
            "ticks": "outside"
           },
           "bgcolor": "white",
           "caxis": {
            "gridcolor": "rgb(232,232,232)",
            "linecolor": "rgb(36,36,36)",
            "showgrid": false,
            "showline": true,
            "ticks": "outside"
           }
          },
          "title": {
           "x": 0.05
          },
          "xaxis": {
           "automargin": true,
           "gridcolor": "rgb(232,232,232)",
           "linecolor": "rgb(36,36,36)",
           "showgrid": false,
           "showline": true,
           "ticks": "outside",
           "title": {
            "standoff": 15
           },
           "zeroline": false,
           "zerolinecolor": "rgb(36,36,36)"
          },
          "yaxis": {
           "automargin": true,
           "gridcolor": "rgb(232,232,232)",
           "linecolor": "rgb(36,36,36)",
           "showgrid": false,
           "showline": true,
           "ticks": "outside",
           "title": {
            "standoff": 15
           },
           "zeroline": false,
           "zerolinecolor": "rgb(36,36,36)"
          }
         }
        },
        "title": {
         "text": "Total and Average Gross of Creative Types",
         "x": 0.5
        },
        "yaxis": {
         "showticklabels": false,
         "visible": false
        }
       }
      }
     },
     "metadata": {},
     "output_type": "display_data"
    }
   ],
   "source": [
    "fig1 = px.bar(popular_creative_types,\n",
    "            x=\"CREATIVE TYPES\",\n",
    "            y=\"MOVIES\",\n",
    "            # hover_name=\"M\",\n",
    "            # text=\"MOVIES\",\n",
    "            custom_data=[\"M\"],\n",
    "            color_discrete_sequence=[\"burlywood\"])\n",
    "\n",
    "fig1.update_traces(hovertemplate=\"<br>\".join([\"<b>%{customdata[0]}<b>\"]))\n",
    "\n",
    "fig2 = px.bar(popular_creative_types,\n",
    "            x=\"CREATIVE TYPES\",\n",
    "            y=\"total_gross\",\n",
    "            # hover_name=\"TG2\",\n",
    "            # text=\"TG\",\n",
    "            custom_data=[\"TG\"],\n",
    "            color_discrete_sequence=[\"lightseagreen\"])\n",
    "\n",
    "fig2.update_traces(hovertemplate=\"<br>\".join([\"<b>%{customdata[0]}<b>\"]))\n",
    "\n",
    "fig3 = px.scatter(popular_creative_types,\n",
    "            x=\"CREATIVE TYPES\",\n",
    "            y=\"avg_gross\",\n",
    "            # hover_name=\"AVG\",\n",
    "            custom_data=[\"AVG\"],\n",
    "            size=\"AVERAGE GROSS\",\n",
    "            size_max=50,\n",
    "            opacity=0.9,\n",
    "            color_discrete_sequence=[\"DarkSlateGray\"])\n",
    "\n",
    "fig3.update_traces(hovertemplate=\"<br>\".join([\"<b>%{customdata[0]}<b>\"]))\n",
    "\n",
    "fig = go.Figure(data=fig1.data + fig2.data + fig3.data)\n",
    "\n",
    "fig.update_layout(hovermode=\"x unified\", template=\"simple_white\", title=\"Total and Average Gross of Creative Types\")\n",
    "fig.update_layout(title_x=0.5,\n",
    "    font_family=\"Rockwell\",\n",
    "    legend=dict(\n",
    "        title=None, orientation=\"h\", y=1, yanchor=\"bottom\", x=0.5, xanchor=\"center\"\n",
    "    )\n",
    ")\n",
    "\n",
    "fig.update_yaxes(visible=False, showticklabels=False)\n",
    "\n",
    "fig.add_annotation(text=\"Super Hero movies had the most average profit\", x=\"Super Hero\", y=popular_creative_types[\"avg_gross\"].iloc[1]+6000,font_size=15, showarrow=False)\n",
    "\n",
    "fig.show()"
   ]
  }
 ],
 "metadata": {
  "interpreter": {
   "hash": "b534e2124af7077393f074e7b52eca72645c535c953d670bad1c7cb61116b561"
  },
  "kernelspec": {
   "display_name": "Python 3.10.0 64-bit ('minimal_ds': conda)",
   "language": "python",
   "name": "python3"
  },
  "language_info": {
   "codemirror_mode": {
    "name": "ipython",
    "version": 3
   },
   "file_extension": ".py",
   "mimetype": "text/x-python",
   "name": "python",
   "nbconvert_exporter": "python",
   "pygments_lexer": "ipython3",
   "version": "3.10.0"
  },
  "orig_nbformat": 4
 },
 "nbformat": 4,
 "nbformat_minor": 2
}
